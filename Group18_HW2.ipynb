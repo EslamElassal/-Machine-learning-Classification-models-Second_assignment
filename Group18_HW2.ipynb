{
 "cells": [
  {
   "cell_type": "markdown",
   "metadata": {
    "id": "E0BkuPf0HIn4"
   },
   "source": [
    "# **Applied Machine Learning Assignment 2 **"
   ]
  },
  {
   "cell_type": "markdown",
   "metadata": {
    "id": "7xlGMkLQOvUA"
   },
   "source": [
    "# **`Import Libraries for all Assignemnt`**"
   ]
  },
  {
   "cell_type": "code",
   "execution_count": 1,
   "metadata": {
    "id": "3r1TC04gHI5l"
   },
   "outputs": [],
   "source": [
    "import numpy as np\n",
    "import pandas as pd\n",
    "from sklearn.datasets import load_wine\n",
    "from sklearn.model_selection import train_test_split\n",
    "from sklearn.metrics import classification_report, ConfusionMatrixDisplay, accuracy_score, confusion_matrix\n",
    "from sklearn.naive_bayes import GaussianNB\n",
    "import matplotlib.pyplot as plt\n",
    "%matplotlib inline\n",
    "from sklearn import metrics\n",
    "from sklearn.feature_selection import SelectKBest, chi2\n",
    "from sklearn.metrics import classification_report, ConfusionMatrixDisplay, accuracy_score, confusion_matrix\n",
    "from sklearn.datasets import make_classification, make_circles\n",
    "from sklearn.preprocessing import MultiLabelBinarizer\n",
    "import seaborn as sns\n",
    "from sklearn.preprocessing import LabelEncoder\n",
    "import warnings\n",
    "import timeit\n",
    "from sklearn.neighbors import KNeighborsClassifier\n",
    "from sklearn.preprocessing import StandardScaler\n",
    "warnings.filterwarnings(action='ignore')\n"
   ]
  },
  {
   "cell_type": "markdown",
   "metadata": {
    "id": "GFeLG-Q2G8nL"
   },
   "source": [
    "# **[Part 1 : Naive Bayes](https://)**"
   ]
  },
  {
   "cell_type": "code",
   "execution_count": 2,
   "metadata": {
    "id": "13ujsNYN685-"
   },
   "outputs": [],
   "source": [
    "def getConfusionMatrix(model,X_test,y_test,title):\n",
    "    \"\"\"plot the confusion matrix of a model\n",
    "    Input: model, X_test, y_test\n",
    "    Output: print the confusion matrix\n",
    "    \"\"\"\n",
    "    predictions = model.predict(X_test)\n",
    "    cm = confusion_matrix(y_test, predictions, labels=model.classes_)\n",
    "    print(cm)\n",
    "    disp = ConfusionMatrixDisplay(confusion_matrix=cm,display_labels=model.classes_)\n",
    "    disp.plot()\n",
    "    plt.title(title)\n",
    "    plt.show()"
   ]
  },
  {
   "cell_type": "code",
   "execution_count": 3,
   "metadata": {
    "id": "2wgoCO42-0Q4"
   },
   "outputs": [],
   "source": [
    "def plotData(features, labels, cls, class_names,axis_labels):\n",
    "    \"\"\"plot the data for OVA Model\n",
    "    Input: features, labels, cls, class_names\n",
    "    Output: plot the data of the model\n",
    "    \"\"\"\n",
    "    colors = ['r', 'b', 'g','']\n",
    "    markers = ['o', '*', '+']\n",
    "    for class_index in range(len(cls)):\n",
    "        plt.xlabel(axis_labels[0])\n",
    "        plt.ylabel(axis_labels[1])  \n",
    "        plt.scatter(features[labels == cls[class_index],0], \n",
    "                    features[labels == cls[class_index],1], \n",
    "                    c=colors[class_index], marker=markers[class_index], \n",
    "                    label=class_names[cls[class_index]])\n",
    "    Title = \"Dataset with {n} classes\".format(n=int(len(cls)))\n",
    "    plt.title(Title)\n",
    "    plt.legend()"
   ]
  },
  {
   "cell_type": "code",
   "execution_count": 4,
   "metadata": {
    "id": "nKs9Zs4i-3BH"
   },
   "outputs": [],
   "source": [
    "def plotRegions(model, X):\n",
    "    \"\"\"plot the regions of the training model  \n",
    "    Input: model, X\n",
    "    Output: plot the regions\n",
    "    \"\"\"\n",
    "    x_min, x_max = X[:, 0].min() - 1, X[:, 0].max() + 1\n",
    "    y_min, y_max = X[:, 1].min() - 1, X[:, 1].max() + 1\n",
    "    XX, YY = np.meshgrid(np.arange(x_min, x_max, 0.01), np.arange(y_min, y_max, 0.01))\n",
    "\n",
    "    z = model.predict(np.c_[XX.ravel(), YY.ravel()])\n",
    "    ZZ = z.reshape(XX.shape)\n",
    "    plt.contourf(XX, YY, ZZ, alpha=0.2)"
   ]
  },
  {
   "cell_type": "code",
   "execution_count": 5,
   "metadata": {
    "id": "yGgco1YK-_t8"
   },
   "outputs": [],
   "source": [
    "def plotDataAndBoundries(X,y,Cls,classNames,model,axis_labels):\n",
    "    \"\"\"plot the data and boundries \n",
    "    Input: X,y,Cls,classNames,model\n",
    "    Output: plot the data and boundries\n",
    "    \"\"\"\n",
    "    plotData(X, y,Cls,classNames,axis_labels)\n",
    "    plotRegions(model,X)\n",
    "    plt.legend(loc=\"upper left\")\n",
    "    plt.show()"
   ]
  },
  {
   "cell_type": "code",
   "execution_count": 6,
   "metadata": {
    "colab": {
     "base_uri": "https://localhost:8080/"
    },
    "id": "KK7i0QHke6ei",
    "outputId": "698c2a7a-b73a-4aa4-f650-4045392ed762"
   },
   "outputs": [
    {
     "data": {
      "text/plain": [
       "{'data': array([[1.423e+01, 1.710e+00, 2.430e+00, ..., 1.040e+00, 3.920e+00,\n",
       "         1.065e+03],\n",
       "        [1.320e+01, 1.780e+00, 2.140e+00, ..., 1.050e+00, 3.400e+00,\n",
       "         1.050e+03],\n",
       "        [1.316e+01, 2.360e+00, 2.670e+00, ..., 1.030e+00, 3.170e+00,\n",
       "         1.185e+03],\n",
       "        ...,\n",
       "        [1.327e+01, 4.280e+00, 2.260e+00, ..., 5.900e-01, 1.560e+00,\n",
       "         8.350e+02],\n",
       "        [1.317e+01, 2.590e+00, 2.370e+00, ..., 6.000e-01, 1.620e+00,\n",
       "         8.400e+02],\n",
       "        [1.413e+01, 4.100e+00, 2.740e+00, ..., 6.100e-01, 1.600e+00,\n",
       "         5.600e+02]]),\n",
       " 'target': array([0, 0, 0, 0, 0, 0, 0, 0, 0, 0, 0, 0, 0, 0, 0, 0, 0, 0, 0, 0, 0, 0,\n",
       "        0, 0, 0, 0, 0, 0, 0, 0, 0, 0, 0, 0, 0, 0, 0, 0, 0, 0, 0, 0, 0, 0,\n",
       "        0, 0, 0, 0, 0, 0, 0, 0, 0, 0, 0, 0, 0, 0, 0, 1, 1, 1, 1, 1, 1, 1,\n",
       "        1, 1, 1, 1, 1, 1, 1, 1, 1, 1, 1, 1, 1, 1, 1, 1, 1, 1, 1, 1, 1, 1,\n",
       "        1, 1, 1, 1, 1, 1, 1, 1, 1, 1, 1, 1, 1, 1, 1, 1, 1, 1, 1, 1, 1, 1,\n",
       "        1, 1, 1, 1, 1, 1, 1, 1, 1, 1, 1, 1, 1, 1, 1, 1, 1, 1, 1, 1, 2, 2,\n",
       "        2, 2, 2, 2, 2, 2, 2, 2, 2, 2, 2, 2, 2, 2, 2, 2, 2, 2, 2, 2, 2, 2,\n",
       "        2, 2, 2, 2, 2, 2, 2, 2, 2, 2, 2, 2, 2, 2, 2, 2, 2, 2, 2, 2, 2, 2,\n",
       "        2, 2]),\n",
       " 'frame': None,\n",
       " 'target_names': array(['class_0', 'class_1', 'class_2'], dtype='<U7'),\n",
       " 'DESCR': '.. _wine_dataset:\\n\\nWine recognition dataset\\n------------------------\\n\\n**Data Set Characteristics:**\\n\\n    :Number of Instances: 178 (50 in each of three classes)\\n    :Number of Attributes: 13 numeric, predictive attributes and the class\\n    :Attribute Information:\\n \\t\\t- Alcohol\\n \\t\\t- Malic acid\\n \\t\\t- Ash\\n\\t\\t- Alcalinity of ash  \\n \\t\\t- Magnesium\\n\\t\\t- Total phenols\\n \\t\\t- Flavanoids\\n \\t\\t- Nonflavanoid phenols\\n \\t\\t- Proanthocyanins\\n\\t\\t- Color intensity\\n \\t\\t- Hue\\n \\t\\t- OD280/OD315 of diluted wines\\n \\t\\t- Proline\\n\\n    - class:\\n            - class_0\\n            - class_1\\n            - class_2\\n\\t\\t\\n    :Summary Statistics:\\n    \\n    ============================= ==== ===== ======= =====\\n                                   Min   Max   Mean     SD\\n    ============================= ==== ===== ======= =====\\n    Alcohol:                      11.0  14.8    13.0   0.8\\n    Malic Acid:                   0.74  5.80    2.34  1.12\\n    Ash:                          1.36  3.23    2.36  0.27\\n    Alcalinity of Ash:            10.6  30.0    19.5   3.3\\n    Magnesium:                    70.0 162.0    99.7  14.3\\n    Total Phenols:                0.98  3.88    2.29  0.63\\n    Flavanoids:                   0.34  5.08    2.03  1.00\\n    Nonflavanoid Phenols:         0.13  0.66    0.36  0.12\\n    Proanthocyanins:              0.41  3.58    1.59  0.57\\n    Colour Intensity:              1.3  13.0     5.1   2.3\\n    Hue:                          0.48  1.71    0.96  0.23\\n    OD280/OD315 of diluted wines: 1.27  4.00    2.61  0.71\\n    Proline:                       278  1680     746   315\\n    ============================= ==== ===== ======= =====\\n\\n    :Missing Attribute Values: None\\n    :Class Distribution: class_0 (59), class_1 (71), class_2 (48)\\n    :Creator: R.A. Fisher\\n    :Donor: Michael Marshall (MARSHALL%PLU@io.arc.nasa.gov)\\n    :Date: July, 1988\\n\\nThis is a copy of UCI ML Wine recognition datasets.\\nhttps://archive.ics.uci.edu/ml/machine-learning-databases/wine/wine.data\\n\\nThe data is the results of a chemical analysis of wines grown in the same\\nregion in Italy by three different cultivators. There are thirteen different\\nmeasurements taken for different constituents found in the three types of\\nwine.\\n\\nOriginal Owners: \\n\\nForina, M. et al, PARVUS - \\nAn Extendible Package for Data Exploration, Classification and Correlation. \\nInstitute of Pharmaceutical and Food Analysis and Technologies,\\nVia Brigata Salerno, 16147 Genoa, Italy.\\n\\nCitation:\\n\\nLichman, M. (2013). UCI Machine Learning Repository\\n[https://archive.ics.uci.edu/ml]. Irvine, CA: University of California,\\nSchool of Information and Computer Science. \\n\\n.. topic:: References\\n\\n  (1) S. Aeberhard, D. Coomans and O. de Vel, \\n  Comparison of Classifiers in High Dimensional Settings, \\n  Tech. Rep. no. 92-02, (1992), Dept. of Computer Science and Dept. of  \\n  Mathematics and Statistics, James Cook University of North Queensland. \\n  (Also submitted to Technometrics). \\n\\n  The data was used with many others for comparing various \\n  classifiers. The classes are separable, though only RDA \\n  has achieved 100% correct classification. \\n  (RDA : 100%, QDA 99.4%, LDA 98.9%, 1NN 96.1% (z-transformed data)) \\n  (All results using the leave-one-out technique) \\n\\n  (2) S. Aeberhard, D. Coomans and O. de Vel, \\n  \"THE CLASSIFICATION PERFORMANCE OF RDA\" \\n  Tech. Rep. no. 92-01, (1992), Dept. of Computer Science and Dept. of \\n  Mathematics and Statistics, James Cook University of North Queensland. \\n  (Also submitted to Journal of Chemometrics).\\n',\n",
       " 'feature_names': ['alcohol',\n",
       "  'malic_acid',\n",
       "  'ash',\n",
       "  'alcalinity_of_ash',\n",
       "  'magnesium',\n",
       "  'total_phenols',\n",
       "  'flavanoids',\n",
       "  'nonflavanoid_phenols',\n",
       "  'proanthocyanins',\n",
       "  'color_intensity',\n",
       "  'hue',\n",
       "  'od280/od315_of_diluted_wines',\n",
       "  'proline']}"
      ]
     },
     "execution_count": 6,
     "metadata": {},
     "output_type": "execute_result"
    }
   ],
   "source": [
    "#load wine dataset from sklean\n",
    "data = load_wine()\n",
    "data"
   ]
  },
  {
   "cell_type": "code",
   "execution_count": 7,
   "metadata": {
    "colab": {
     "base_uri": "https://localhost:8080/",
     "height": 427
    },
    "id": "0-PGQULkd33-",
    "outputId": "c8f30f23-4b9e-4bdd-c340-0543b05fd272"
   },
   "outputs": [
    {
     "data": {
      "text/html": [
       "<div>\n",
       "<style scoped>\n",
       "    .dataframe tbody tr th:only-of-type {\n",
       "        vertical-align: middle;\n",
       "    }\n",
       "\n",
       "    .dataframe tbody tr th {\n",
       "        vertical-align: top;\n",
       "    }\n",
       "\n",
       "    .dataframe thead th {\n",
       "        text-align: right;\n",
       "    }\n",
       "</style>\n",
       "<table border=\"1\" class=\"dataframe\">\n",
       "  <thead>\n",
       "    <tr style=\"text-align: right;\">\n",
       "      <th></th>\n",
       "      <th>alcohol</th>\n",
       "      <th>malic_acid</th>\n",
       "      <th>ash</th>\n",
       "      <th>alcalinity_of_ash</th>\n",
       "      <th>magnesium</th>\n",
       "      <th>total_phenols</th>\n",
       "      <th>flavanoids</th>\n",
       "      <th>nonflavanoid_phenols</th>\n",
       "      <th>proanthocyanins</th>\n",
       "      <th>color_intensity</th>\n",
       "      <th>hue</th>\n",
       "      <th>od280/od315_of_diluted_wines</th>\n",
       "      <th>proline</th>\n",
       "    </tr>\n",
       "  </thead>\n",
       "  <tbody>\n",
       "    <tr>\n",
       "      <th>0</th>\n",
       "      <td>14.23</td>\n",
       "      <td>1.71</td>\n",
       "      <td>2.43</td>\n",
       "      <td>15.6</td>\n",
       "      <td>127.0</td>\n",
       "      <td>2.80</td>\n",
       "      <td>3.06</td>\n",
       "      <td>0.28</td>\n",
       "      <td>2.29</td>\n",
       "      <td>5.64</td>\n",
       "      <td>1.04</td>\n",
       "      <td>3.92</td>\n",
       "      <td>1065.0</td>\n",
       "    </tr>\n",
       "    <tr>\n",
       "      <th>1</th>\n",
       "      <td>13.20</td>\n",
       "      <td>1.78</td>\n",
       "      <td>2.14</td>\n",
       "      <td>11.2</td>\n",
       "      <td>100.0</td>\n",
       "      <td>2.65</td>\n",
       "      <td>2.76</td>\n",
       "      <td>0.26</td>\n",
       "      <td>1.28</td>\n",
       "      <td>4.38</td>\n",
       "      <td>1.05</td>\n",
       "      <td>3.40</td>\n",
       "      <td>1050.0</td>\n",
       "    </tr>\n",
       "    <tr>\n",
       "      <th>2</th>\n",
       "      <td>13.16</td>\n",
       "      <td>2.36</td>\n",
       "      <td>2.67</td>\n",
       "      <td>18.6</td>\n",
       "      <td>101.0</td>\n",
       "      <td>2.80</td>\n",
       "      <td>3.24</td>\n",
       "      <td>0.30</td>\n",
       "      <td>2.81</td>\n",
       "      <td>5.68</td>\n",
       "      <td>1.03</td>\n",
       "      <td>3.17</td>\n",
       "      <td>1185.0</td>\n",
       "    </tr>\n",
       "    <tr>\n",
       "      <th>3</th>\n",
       "      <td>14.37</td>\n",
       "      <td>1.95</td>\n",
       "      <td>2.50</td>\n",
       "      <td>16.8</td>\n",
       "      <td>113.0</td>\n",
       "      <td>3.85</td>\n",
       "      <td>3.49</td>\n",
       "      <td>0.24</td>\n",
       "      <td>2.18</td>\n",
       "      <td>7.80</td>\n",
       "      <td>0.86</td>\n",
       "      <td>3.45</td>\n",
       "      <td>1480.0</td>\n",
       "    </tr>\n",
       "    <tr>\n",
       "      <th>4</th>\n",
       "      <td>13.24</td>\n",
       "      <td>2.59</td>\n",
       "      <td>2.87</td>\n",
       "      <td>21.0</td>\n",
       "      <td>118.0</td>\n",
       "      <td>2.80</td>\n",
       "      <td>2.69</td>\n",
       "      <td>0.39</td>\n",
       "      <td>1.82</td>\n",
       "      <td>4.32</td>\n",
       "      <td>1.04</td>\n",
       "      <td>2.93</td>\n",
       "      <td>735.0</td>\n",
       "    </tr>\n",
       "    <tr>\n",
       "      <th>5</th>\n",
       "      <td>14.20</td>\n",
       "      <td>1.76</td>\n",
       "      <td>2.45</td>\n",
       "      <td>15.2</td>\n",
       "      <td>112.0</td>\n",
       "      <td>3.27</td>\n",
       "      <td>3.39</td>\n",
       "      <td>0.34</td>\n",
       "      <td>1.97</td>\n",
       "      <td>6.75</td>\n",
       "      <td>1.05</td>\n",
       "      <td>2.85</td>\n",
       "      <td>1450.0</td>\n",
       "    </tr>\n",
       "    <tr>\n",
       "      <th>6</th>\n",
       "      <td>14.39</td>\n",
       "      <td>1.87</td>\n",
       "      <td>2.45</td>\n",
       "      <td>14.6</td>\n",
       "      <td>96.0</td>\n",
       "      <td>2.50</td>\n",
       "      <td>2.52</td>\n",
       "      <td>0.30</td>\n",
       "      <td>1.98</td>\n",
       "      <td>5.25</td>\n",
       "      <td>1.02</td>\n",
       "      <td>3.58</td>\n",
       "      <td>1290.0</td>\n",
       "    </tr>\n",
       "    <tr>\n",
       "      <th>7</th>\n",
       "      <td>14.06</td>\n",
       "      <td>2.15</td>\n",
       "      <td>2.61</td>\n",
       "      <td>17.6</td>\n",
       "      <td>121.0</td>\n",
       "      <td>2.60</td>\n",
       "      <td>2.51</td>\n",
       "      <td>0.31</td>\n",
       "      <td>1.25</td>\n",
       "      <td>5.05</td>\n",
       "      <td>1.06</td>\n",
       "      <td>3.58</td>\n",
       "      <td>1295.0</td>\n",
       "    </tr>\n",
       "    <tr>\n",
       "      <th>8</th>\n",
       "      <td>14.83</td>\n",
       "      <td>1.64</td>\n",
       "      <td>2.17</td>\n",
       "      <td>14.0</td>\n",
       "      <td>97.0</td>\n",
       "      <td>2.80</td>\n",
       "      <td>2.98</td>\n",
       "      <td>0.29</td>\n",
       "      <td>1.98</td>\n",
       "      <td>5.20</td>\n",
       "      <td>1.08</td>\n",
       "      <td>2.85</td>\n",
       "      <td>1045.0</td>\n",
       "    </tr>\n",
       "    <tr>\n",
       "      <th>9</th>\n",
       "      <td>13.86</td>\n",
       "      <td>1.35</td>\n",
       "      <td>2.27</td>\n",
       "      <td>16.0</td>\n",
       "      <td>98.0</td>\n",
       "      <td>2.98</td>\n",
       "      <td>3.15</td>\n",
       "      <td>0.22</td>\n",
       "      <td>1.85</td>\n",
       "      <td>7.22</td>\n",
       "      <td>1.01</td>\n",
       "      <td>3.55</td>\n",
       "      <td>1045.0</td>\n",
       "    </tr>\n",
       "  </tbody>\n",
       "</table>\n",
       "</div>"
      ],
      "text/plain": [
       "   alcohol  malic_acid   ash  alcalinity_of_ash  magnesium  total_phenols  \\\n",
       "0    14.23        1.71  2.43               15.6      127.0           2.80   \n",
       "1    13.20        1.78  2.14               11.2      100.0           2.65   \n",
       "2    13.16        2.36  2.67               18.6      101.0           2.80   \n",
       "3    14.37        1.95  2.50               16.8      113.0           3.85   \n",
       "4    13.24        2.59  2.87               21.0      118.0           2.80   \n",
       "5    14.20        1.76  2.45               15.2      112.0           3.27   \n",
       "6    14.39        1.87  2.45               14.6       96.0           2.50   \n",
       "7    14.06        2.15  2.61               17.6      121.0           2.60   \n",
       "8    14.83        1.64  2.17               14.0       97.0           2.80   \n",
       "9    13.86        1.35  2.27               16.0       98.0           2.98   \n",
       "\n",
       "   flavanoids  nonflavanoid_phenols  proanthocyanins  color_intensity   hue  \\\n",
       "0        3.06                  0.28             2.29             5.64  1.04   \n",
       "1        2.76                  0.26             1.28             4.38  1.05   \n",
       "2        3.24                  0.30             2.81             5.68  1.03   \n",
       "3        3.49                  0.24             2.18             7.80  0.86   \n",
       "4        2.69                  0.39             1.82             4.32  1.04   \n",
       "5        3.39                  0.34             1.97             6.75  1.05   \n",
       "6        2.52                  0.30             1.98             5.25  1.02   \n",
       "7        2.51                  0.31             1.25             5.05  1.06   \n",
       "8        2.98                  0.29             1.98             5.20  1.08   \n",
       "9        3.15                  0.22             1.85             7.22  1.01   \n",
       "\n",
       "   od280/od315_of_diluted_wines  proline  \n",
       "0                          3.92   1065.0  \n",
       "1                          3.40   1050.0  \n",
       "2                          3.17   1185.0  \n",
       "3                          3.45   1480.0  \n",
       "4                          2.93    735.0  \n",
       "5                          2.85   1450.0  \n",
       "6                          3.58   1290.0  \n",
       "7                          3.58   1295.0  \n",
       "8                          2.85   1045.0  \n",
       "9                          3.55   1045.0  "
      ]
     },
     "execution_count": 7,
     "metadata": {},
     "output_type": "execute_result"
    }
   ],
   "source": [
    "#extract X from dataset convert X to dataframe\n",
    "X = pd.DataFrame(data=data.data, columns=data.feature_names)\n",
    "X.head(10)"
   ]
  },
  {
   "cell_type": "code",
   "execution_count": 8,
   "metadata": {
    "colab": {
     "base_uri": "https://localhost:8080/"
    },
    "id": "YEE1hIy_fBuj",
    "outputId": "bb459e4f-a943-4368-f0d6-25cd0d5e9adf"
   },
   "outputs": [
    {
     "data": {
      "text/plain": [
       "array([0, 0, 0, 0, 0, 0, 0, 0, 0, 0, 0, 0, 0, 0, 0, 0, 0, 0, 0, 0, 0, 0,\n",
       "       0, 0, 0, 0, 0, 0, 0, 0, 0, 0, 0, 0, 0, 0, 0, 0, 0, 0, 0, 0, 0, 0,\n",
       "       0, 0, 0, 0, 0, 0, 0, 0, 0, 0, 0, 0, 0, 0, 0, 1, 1, 1, 1, 1, 1, 1,\n",
       "       1, 1, 1, 1, 1, 1, 1, 1, 1, 1, 1, 1, 1, 1, 1, 1, 1, 1, 1, 1, 1, 1,\n",
       "       1, 1, 1, 1, 1, 1, 1, 1, 1, 1, 1, 1, 1, 1, 1, 1, 1, 1, 1, 1, 1, 1,\n",
       "       1, 1, 1, 1, 1, 1, 1, 1, 1, 1, 1, 1, 1, 1, 1, 1, 1, 1, 1, 1, 2, 2,\n",
       "       2, 2, 2, 2, 2, 2, 2, 2, 2, 2, 2, 2, 2, 2, 2, 2, 2, 2, 2, 2, 2, 2,\n",
       "       2, 2, 2, 2, 2, 2, 2, 2, 2, 2, 2, 2, 2, 2, 2, 2, 2, 2, 2, 2, 2, 2,\n",
       "       2, 2])"
      ]
     },
     "execution_count": 8,
     "metadata": {},
     "output_type": "execute_result"
    }
   ],
   "source": [
    "#extract y from dataset\n",
    "y=data.target\n",
    "y"
   ]
  },
  {
   "cell_type": "code",
   "execution_count": 9,
   "metadata": {
    "colab": {
     "base_uri": "https://localhost:8080/"
    },
    "id": "RW-aLwZEAImg",
    "outputId": "09c66c98-9825-4a4b-ce3a-31f440d32be5"
   },
   "outputs": [
    {
     "data": {
      "text/plain": [
       "alcohol                         0\n",
       "malic_acid                      0\n",
       "ash                             0\n",
       "alcalinity_of_ash               0\n",
       "magnesium                       0\n",
       "total_phenols                   0\n",
       "flavanoids                      0\n",
       "nonflavanoid_phenols            0\n",
       "proanthocyanins                 0\n",
       "color_intensity                 0\n",
       "hue                             0\n",
       "od280/od315_of_diluted_wines    0\n",
       "proline                         0\n",
       "dtype: int64"
      ]
     },
     "execution_count": 9,
     "metadata": {},
     "output_type": "execute_result"
    }
   ],
   "source": [
    "# checking the number of missing data\n",
    "X.isnull().sum()"
   ]
  },
  {
   "cell_type": "code",
   "execution_count": 10,
   "metadata": {
    "id": "0GJSYelkBLuc"
   },
   "outputs": [],
   "source": [
    "#split data into training and testing with 80% training and 20% testing\n",
    "X_train, X_test, y_train, y_test = train_test_split( X, y, test_size=0.2, random_state=42)"
   ]
  },
  {
   "cell_type": "code",
   "execution_count": 11,
   "metadata": {
    "id": "5OR_5A5tBIYI"
   },
   "outputs": [],
   "source": [
    "best2Features = SelectKBest(chi2, k=2).fit_transform(X, y)\n",
    "#best 2 features are color_intensity, proline"
   ]
  },
  {
   "cell_type": "code",
   "execution_count": 12,
   "metadata": {
    "id": "kWyW_KZPA17d"
   },
   "outputs": [],
   "source": [
    "# Feature Scaling \n",
    "sc = StandardScaler()\n",
    "X_train= sc.fit_transform(X_train)\n",
    "X_test = sc.transform(X_test)"
   ]
  },
  {
   "cell_type": "code",
   "execution_count": 13,
   "metadata": {
    "id": "7BBrxYT13kjm"
   },
   "outputs": [],
   "source": [
    "\n",
    "# Train Guassian Naive Model and predit \n",
    "nb= GaussianNB()\n",
    "NBmodel=nb.fit(X_train,y_train)\n",
    "ypred= NBmodel.predict(X_test)"
   ]
  },
  {
   "cell_type": "code",
   "execution_count": 14,
   "metadata": {
    "colab": {
     "base_uri": "https://localhost:8080/",
     "height": 347
    },
    "id": "L30ttWa57Drl",
    "outputId": "dd442406-1d84-4e76-f1fc-0ffe8ba84107"
   },
   "outputs": [
    {
     "name": "stdout",
     "output_type": "stream",
     "text": [
      "[[14  0  0]\n",
      " [ 0 14  0]\n",
      " [ 0  0  8]]\n"
     ]
    },
    {
     "data": {
      "image/png": "[encoded data removed]",
      "text/plain": [
       "<Figure size 432x288 with 2 Axes>"
      ]
     },
     "metadata": {
      "needs_background": "light"
     },
     "output_type": "display_data"
    }
   ],
   "source": [
    "#plot confusion matrix \n",
    "getConfusionMatrix(NBmodel,X_test,y_test,\"Confusion Matrix for {}\".format(\"GaussianNB Model\"))\n"
   ]
  },
  {
   "cell_type": "code",
   "execution_count": 15,
   "metadata": {
    "colab": {
     "base_uri": "https://localhost:8080/"
    },
    "id": "HqM6pLkD3BBe",
    "outputId": "3e937062-6035-4749-b4f4-170d0b17b8c6"
   },
   "outputs": [
    {
     "name": "stdout",
     "output_type": "stream",
     "text": [
      "\n",
      "Classification Report for all Features\n",
      "              precision    recall  f1-score   support\n",
      "\n",
      "     class_0       1.00      1.00      1.00        14\n",
      "     class_1       1.00      1.00      1.00        14\n",
      "     class_2       1.00      1.00      1.00         8\n",
      "\n",
      "    accuracy                           1.00        36\n",
      "   macro avg       1.00      1.00      1.00        36\n",
      "weighted avg       1.00      1.00      1.00        36\n",
      "\n"
     ]
    }
   ],
   "source": [
    "#Classification Report for all Features\n",
    "print('\\nClassification Report for all Features')\n",
    "print(classification_report(y_test, ypred,  target_names =data.target_names))"
   ]
  },
  {
   "cell_type": "code",
   "execution_count": 16,
   "metadata": {
    "colab": {
     "base_uri": "https://localhost:8080/",
     "height": 852
    },
    "id": "yXcqhi6C9R7H",
    "outputId": "64546ba4-d1ba-4b96-889b-924ee5e7d9dd"
   },
   "outputs": [
    {
     "name": "stdout",
     "output_type": "stream",
     "text": [
      "[[13  1  0]\n",
      " [ 0 12  2]\n",
      " [ 1  2  5]]\n"
     ]
    },
    {
     "data": {
      "image/png": "[encoded data removed]",
      "text/plain": [
       "<Figure size 432x288 with 2 Axes>"
      ]
     },
     "metadata": {
      "needs_background": "light"
     },
     "output_type": "display_data"
    },
    {
     "name": "stdout",
     "output_type": "stream",
     "text": [
      "\n",
      "Classification Report for GaussianNB Model with only 2 features  color_intensity, proline\n",
      "              precision    recall  f1-score   support\n",
      "\n",
      "     class_0       0.93      0.93      0.93        14\n",
      "     class_1       0.80      0.86      0.83        14\n",
      "     class_2       0.71      0.62      0.67         8\n",
      "\n",
      "    accuracy                           0.83        36\n",
      "   macro avg       0.81      0.80      0.81        36\n",
      "weighted avg       0.83      0.83      0.83        36\n",
      "\n",
      "Testing for classes 0 , 1 , 2 with only 2 features color_intensity, proline\n"
     ]
    },
    {
     "data": {
      "image/png": "[encoded data removed]",
      "text/plain": [
       "<Figure size 432x288 with 1 Axes>"
      ]
     },
     "metadata": {
      "needs_background": "light"
     },
     "output_type": "display_data"
    }
   ],
   "source": [
    "# retraining Gaussian Naive Bayes with only 2 features\n",
    "nb= GaussianNB()\n",
    "NBmodelWith2Features=nb.fit(X_train[:,[-4,-1]],y_train)\n",
    "ypred_with2Features=NBmodelWith2Features.predict(X_test[:,[-4,-1]])\n",
    "getConfusionMatrix(NBmodelWith2Features,X_test[:,[-4,-1]],y_test,\"Confusion Matrix for {}\".format(\"GaussianNB Model with only 2 features  color_intensity, proline\"))\n",
    "print('\\nClassification Report for GaussianNB Model with only 2 features  color_intensity, proline')\n",
    "print(classification_report(y_test, ypred_with2Features,  target_names =data.target_names))\n",
    "print(\"Testing for classes 0 , 1 , 2 with only 2 features color_intensity, proline\")\n",
    "plotDataAndBoundries(X_test[:,[-4,-1]],y_test,[0,1,2],{0:'class_0', 1:'class_1',2:'class_2'} ,NBmodelWith2Features,['color_intensity', 'proline'])"
   ]
  },
  {
   "cell_type": "markdown",
   "metadata": {
    "id": "QKKuAm_IJ8BY"
   },
   "source": [
    "# **Part 2 : KNN**"
   ]
  },
  {
   "cell_type": "code",
   "execution_count": 17,
   "metadata": {
    "colab": {
     "base_uri": "https://localhost:8080/",
     "height": 676
    },
    "id": "SR8SwhBeJ7UU",
    "outputId": "57ab7013-412f-4b9a-be5f-79d2e081a76c"
   },
   "outputs": [
    {
     "data": {
      "text/html": [
       "<div>\n",
       "<style scoped>\n",
       "    .dataframe tbody tr th:only-of-type {\n",
       "        vertical-align: middle;\n",
       "    }\n",
       "\n",
       "    .dataframe tbody tr th {\n",
       "        vertical-align: top;\n",
       "    }\n",
       "\n",
       "    .dataframe thead th {\n",
       "        text-align: right;\n",
       "    }\n",
       "</style>\n",
       "<table border=\"1\" class=\"dataframe\">\n",
       "  <thead>\n",
       "    <tr style=\"text-align: right;\">\n",
       "      <th></th>\n",
       "      <th>buying</th>\n",
       "      <th>maint</th>\n",
       "      <th>doors</th>\n",
       "      <th>persons</th>\n",
       "      <th>lug_boot</th>\n",
       "      <th>safety</th>\n",
       "      <th>class</th>\n",
       "    </tr>\n",
       "  </thead>\n",
       "  <tbody>\n",
       "    <tr>\n",
       "      <th>0</th>\n",
       "      <td>vhigh</td>\n",
       "      <td>vhigh</td>\n",
       "      <td>2</td>\n",
       "      <td>2</td>\n",
       "      <td>small</td>\n",
       "      <td>low</td>\n",
       "      <td>unacc</td>\n",
       "    </tr>\n",
       "    <tr>\n",
       "      <th>1</th>\n",
       "      <td>vhigh</td>\n",
       "      <td>vhigh</td>\n",
       "      <td>2</td>\n",
       "      <td>2</td>\n",
       "      <td>small</td>\n",
       "      <td>med</td>\n",
       "      <td>unacc</td>\n",
       "    </tr>\n",
       "    <tr>\n",
       "      <th>2</th>\n",
       "      <td>vhigh</td>\n",
       "      <td>vhigh</td>\n",
       "      <td>2</td>\n",
       "      <td>2</td>\n",
       "      <td>small</td>\n",
       "      <td>high</td>\n",
       "      <td>unacc</td>\n",
       "    </tr>\n",
       "    <tr>\n",
       "      <th>3</th>\n",
       "      <td>vhigh</td>\n",
       "      <td>vhigh</td>\n",
       "      <td>2</td>\n",
       "      <td>2</td>\n",
       "      <td>med</td>\n",
       "      <td>low</td>\n",
       "      <td>unacc</td>\n",
       "    </tr>\n",
       "    <tr>\n",
       "      <th>4</th>\n",
       "      <td>vhigh</td>\n",
       "      <td>vhigh</td>\n",
       "      <td>2</td>\n",
       "      <td>2</td>\n",
       "      <td>med</td>\n",
       "      <td>med</td>\n",
       "      <td>unacc</td>\n",
       "    </tr>\n",
       "    <tr>\n",
       "      <th>5</th>\n",
       "      <td>vhigh</td>\n",
       "      <td>vhigh</td>\n",
       "      <td>2</td>\n",
       "      <td>2</td>\n",
       "      <td>med</td>\n",
       "      <td>high</td>\n",
       "      <td>unacc</td>\n",
       "    </tr>\n",
       "    <tr>\n",
       "      <th>6</th>\n",
       "      <td>vhigh</td>\n",
       "      <td>vhigh</td>\n",
       "      <td>2</td>\n",
       "      <td>2</td>\n",
       "      <td>big</td>\n",
       "      <td>low</td>\n",
       "      <td>unacc</td>\n",
       "    </tr>\n",
       "    <tr>\n",
       "      <th>7</th>\n",
       "      <td>vhigh</td>\n",
       "      <td>vhigh</td>\n",
       "      <td>2</td>\n",
       "      <td>2</td>\n",
       "      <td>big</td>\n",
       "      <td>med</td>\n",
       "      <td>unacc</td>\n",
       "    </tr>\n",
       "    <tr>\n",
       "      <th>8</th>\n",
       "      <td>vhigh</td>\n",
       "      <td>vhigh</td>\n",
       "      <td>2</td>\n",
       "      <td>2</td>\n",
       "      <td>big</td>\n",
       "      <td>high</td>\n",
       "      <td>unacc</td>\n",
       "    </tr>\n",
       "    <tr>\n",
       "      <th>9</th>\n",
       "      <td>vhigh</td>\n",
       "      <td>vhigh</td>\n",
       "      <td>2</td>\n",
       "      <td>4</td>\n",
       "      <td>small</td>\n",
       "      <td>low</td>\n",
       "      <td>unacc</td>\n",
       "    </tr>\n",
       "    <tr>\n",
       "      <th>10</th>\n",
       "      <td>vhigh</td>\n",
       "      <td>vhigh</td>\n",
       "      <td>2</td>\n",
       "      <td>4</td>\n",
       "      <td>small</td>\n",
       "      <td>med</td>\n",
       "      <td>unacc</td>\n",
       "    </tr>\n",
       "    <tr>\n",
       "      <th>11</th>\n",
       "      <td>vhigh</td>\n",
       "      <td>vhigh</td>\n",
       "      <td>2</td>\n",
       "      <td>4</td>\n",
       "      <td>small</td>\n",
       "      <td>high</td>\n",
       "      <td>unacc</td>\n",
       "    </tr>\n",
       "    <tr>\n",
       "      <th>12</th>\n",
       "      <td>vhigh</td>\n",
       "      <td>vhigh</td>\n",
       "      <td>2</td>\n",
       "      <td>4</td>\n",
       "      <td>med</td>\n",
       "      <td>low</td>\n",
       "      <td>unacc</td>\n",
       "    </tr>\n",
       "    <tr>\n",
       "      <th>13</th>\n",
       "      <td>vhigh</td>\n",
       "      <td>vhigh</td>\n",
       "      <td>2</td>\n",
       "      <td>4</td>\n",
       "      <td>med</td>\n",
       "      <td>med</td>\n",
       "      <td>unacc</td>\n",
       "    </tr>\n",
       "    <tr>\n",
       "      <th>14</th>\n",
       "      <td>vhigh</td>\n",
       "      <td>vhigh</td>\n",
       "      <td>2</td>\n",
       "      <td>4</td>\n",
       "      <td>med</td>\n",
       "      <td>high</td>\n",
       "      <td>unacc</td>\n",
       "    </tr>\n",
       "    <tr>\n",
       "      <th>15</th>\n",
       "      <td>vhigh</td>\n",
       "      <td>vhigh</td>\n",
       "      <td>2</td>\n",
       "      <td>4</td>\n",
       "      <td>big</td>\n",
       "      <td>low</td>\n",
       "      <td>unacc</td>\n",
       "    </tr>\n",
       "    <tr>\n",
       "      <th>16</th>\n",
       "      <td>vhigh</td>\n",
       "      <td>vhigh</td>\n",
       "      <td>2</td>\n",
       "      <td>4</td>\n",
       "      <td>big</td>\n",
       "      <td>med</td>\n",
       "      <td>unacc</td>\n",
       "    </tr>\n",
       "    <tr>\n",
       "      <th>17</th>\n",
       "      <td>vhigh</td>\n",
       "      <td>vhigh</td>\n",
       "      <td>2</td>\n",
       "      <td>4</td>\n",
       "      <td>big</td>\n",
       "      <td>high</td>\n",
       "      <td>unacc</td>\n",
       "    </tr>\n",
       "    <tr>\n",
       "      <th>18</th>\n",
       "      <td>vhigh</td>\n",
       "      <td>vhigh</td>\n",
       "      <td>2</td>\n",
       "      <td>more</td>\n",
       "      <td>small</td>\n",
       "      <td>low</td>\n",
       "      <td>unacc</td>\n",
       "    </tr>\n",
       "    <tr>\n",
       "      <th>19</th>\n",
       "      <td>vhigh</td>\n",
       "      <td>vhigh</td>\n",
       "      <td>2</td>\n",
       "      <td>more</td>\n",
       "      <td>small</td>\n",
       "      <td>med</td>\n",
       "      <td>unacc</td>\n",
       "    </tr>\n",
       "  </tbody>\n",
       "</table>\n",
       "</div>"
      ],
      "text/plain": [
       "   buying  maint doors persons lug_boot safety  class\n",
       "0   vhigh  vhigh     2       2    small    low  unacc\n",
       "1   vhigh  vhigh     2       2    small    med  unacc\n",
       "2   vhigh  vhigh     2       2    small   high  unacc\n",
       "3   vhigh  vhigh     2       2      med    low  unacc\n",
       "4   vhigh  vhigh     2       2      med    med  unacc\n",
       "5   vhigh  vhigh     2       2      med   high  unacc\n",
       "6   vhigh  vhigh     2       2      big    low  unacc\n",
       "7   vhigh  vhigh     2       2      big    med  unacc\n",
       "8   vhigh  vhigh     2       2      big   high  unacc\n",
       "9   vhigh  vhigh     2       4    small    low  unacc\n",
       "10  vhigh  vhigh     2       4    small    med  unacc\n",
       "11  vhigh  vhigh     2       4    small   high  unacc\n",
       "12  vhigh  vhigh     2       4      med    low  unacc\n",
       "13  vhigh  vhigh     2       4      med    med  unacc\n",
       "14  vhigh  vhigh     2       4      med   high  unacc\n",
       "15  vhigh  vhigh     2       4      big    low  unacc\n",
       "16  vhigh  vhigh     2       4      big    med  unacc\n",
       "17  vhigh  vhigh     2       4      big   high  unacc\n",
       "18  vhigh  vhigh     2    more    small    low  unacc\n",
       "19  vhigh  vhigh     2    more    small    med  unacc"
      ]
     },
     "execution_count": 17,
     "metadata": {},
     "output_type": "execute_result"
    }
   ],
   "source": [
    "dataset2 =pd.read_csv('car_evaluation.csv',header=None)\n",
    "col_names = ['buying', 'maint', 'doors', 'persons', 'lug_boot', 'safety', 'class']\n",
    "dataset2.columns = col_names\n",
    "dataset2.head(20)"
   ]
  },
  {
   "cell_type": "code",
   "execution_count": 18,
   "metadata": {
    "colab": {
     "base_uri": "https://localhost:8080/",
     "height": 175
    },
    "id": "ltuhyRduK4aK",
    "outputId": "9c8e12b8-7ada-4ad4-afd2-a1c1e44e3f61"
   },
   "outputs": [
    {
     "data": {
      "text/html": [
       "<div>\n",
       "<style scoped>\n",
       "    .dataframe tbody tr th:only-of-type {\n",
       "        vertical-align: middle;\n",
       "    }\n",
       "\n",
       "    .dataframe tbody tr th {\n",
       "        vertical-align: top;\n",
       "    }\n",
       "\n",
       "    .dataframe thead th {\n",
       "        text-align: right;\n",
       "    }\n",
       "</style>\n",
       "<table border=\"1\" class=\"dataframe\">\n",
       "  <thead>\n",
       "    <tr style=\"text-align: right;\">\n",
       "      <th></th>\n",
       "      <th>buying</th>\n",
       "      <th>maint</th>\n",
       "      <th>doors</th>\n",
       "      <th>persons</th>\n",
       "      <th>lug_boot</th>\n",
       "      <th>safety</th>\n",
       "      <th>class</th>\n",
       "    </tr>\n",
       "  </thead>\n",
       "  <tbody>\n",
       "    <tr>\n",
       "      <th>count</th>\n",
       "      <td>1728</td>\n",
       "      <td>1728</td>\n",
       "      <td>1728</td>\n",
       "      <td>1728</td>\n",
       "      <td>1728</td>\n",
       "      <td>1728</td>\n",
       "      <td>1728</td>\n",
       "    </tr>\n",
       "    <tr>\n",
       "      <th>unique</th>\n",
       "      <td>4</td>\n",
       "      <td>4</td>\n",
       "      <td>4</td>\n",
       "      <td>3</td>\n",
       "      <td>3</td>\n",
       "      <td>3</td>\n",
       "      <td>4</td>\n",
       "    </tr>\n",
       "    <tr>\n",
       "      <th>top</th>\n",
       "      <td>vhigh</td>\n",
       "      <td>vhigh</td>\n",
       "      <td>2</td>\n",
       "      <td>2</td>\n",
       "      <td>small</td>\n",
       "      <td>low</td>\n",
       "      <td>unacc</td>\n",
       "    </tr>\n",
       "    <tr>\n",
       "      <th>freq</th>\n",
       "      <td>432</td>\n",
       "      <td>432</td>\n",
       "      <td>432</td>\n",
       "      <td>576</td>\n",
       "      <td>576</td>\n",
       "      <td>576</td>\n",
       "      <td>1210</td>\n",
       "    </tr>\n",
       "  </tbody>\n",
       "</table>\n",
       "</div>"
      ],
      "text/plain": [
       "       buying  maint doors persons lug_boot safety  class\n",
       "count    1728   1728  1728    1728     1728   1728   1728\n",
       "unique      4      4     4       3        3      3      4\n",
       "top     vhigh  vhigh     2       2    small    low  unacc\n",
       "freq      432    432   432     576      576    576   1210"
      ]
     },
     "execution_count": 18,
     "metadata": {},
     "output_type": "execute_result"
    }
   ],
   "source": [
    "dataset2.describe()"
   ]
  },
  {
   "cell_type": "markdown",
   "metadata": {
    "id": "wxU9KAyZK6kA"
   },
   "source": [
    "# **get X -> features , y-> label**"
   ]
  },
  {
   "cell_type": "code",
   "execution_count": 19,
   "metadata": {
    "id": "ojvS3IKNLGwR"
   },
   "outputs": [],
   "source": [
    "X = dataset2.drop(['class'], axis=1)\n",
    "y = dataset2['class']"
   ]
  },
  {
   "cell_type": "code",
   "execution_count": 20,
   "metadata": {
    "colab": {
     "base_uri": "https://localhost:8080/",
     "height": 424
    },
    "id": "5yCed8f_LI7Q",
    "outputId": "be11809d-d7fb-41e8-e48a-89f440836048"
   },
   "outputs": [
    {
     "data": {
      "text/html": [
       "<div>\n",
       "<style scoped>\n",
       "    .dataframe tbody tr th:only-of-type {\n",
       "        vertical-align: middle;\n",
       "    }\n",
       "\n",
       "    .dataframe tbody tr th {\n",
       "        vertical-align: top;\n",
       "    }\n",
       "\n",
       "    .dataframe thead th {\n",
       "        text-align: right;\n",
       "    }\n",
       "</style>\n",
       "<table border=\"1\" class=\"dataframe\">\n",
       "  <thead>\n",
       "    <tr style=\"text-align: right;\">\n",
       "      <th></th>\n",
       "      <th>buying</th>\n",
       "      <th>maint</th>\n",
       "      <th>doors</th>\n",
       "      <th>persons</th>\n",
       "      <th>lug_boot</th>\n",
       "      <th>safety</th>\n",
       "    </tr>\n",
       "  </thead>\n",
       "  <tbody>\n",
       "    <tr>\n",
       "      <th>0</th>\n",
       "      <td>vhigh</td>\n",
       "      <td>vhigh</td>\n",
       "      <td>2</td>\n",
       "      <td>2</td>\n",
       "      <td>small</td>\n",
       "      <td>low</td>\n",
       "    </tr>\n",
       "    <tr>\n",
       "      <th>1</th>\n",
       "      <td>vhigh</td>\n",
       "      <td>vhigh</td>\n",
       "      <td>2</td>\n",
       "      <td>2</td>\n",
       "      <td>small</td>\n",
       "      <td>med</td>\n",
       "    </tr>\n",
       "    <tr>\n",
       "      <th>2</th>\n",
       "      <td>vhigh</td>\n",
       "      <td>vhigh</td>\n",
       "      <td>2</td>\n",
       "      <td>2</td>\n",
       "      <td>small</td>\n",
       "      <td>high</td>\n",
       "    </tr>\n",
       "    <tr>\n",
       "      <th>3</th>\n",
       "      <td>vhigh</td>\n",
       "      <td>vhigh</td>\n",
       "      <td>2</td>\n",
       "      <td>2</td>\n",
       "      <td>med</td>\n",
       "      <td>low</td>\n",
       "    </tr>\n",
       "    <tr>\n",
       "      <th>4</th>\n",
       "      <td>vhigh</td>\n",
       "      <td>vhigh</td>\n",
       "      <td>2</td>\n",
       "      <td>2</td>\n",
       "      <td>med</td>\n",
       "      <td>med</td>\n",
       "    </tr>\n",
       "    <tr>\n",
       "      <th>...</th>\n",
       "      <td>...</td>\n",
       "      <td>...</td>\n",
       "      <td>...</td>\n",
       "      <td>...</td>\n",
       "      <td>...</td>\n",
       "      <td>...</td>\n",
       "    </tr>\n",
       "    <tr>\n",
       "      <th>1723</th>\n",
       "      <td>low</td>\n",
       "      <td>low</td>\n",
       "      <td>5more</td>\n",
       "      <td>more</td>\n",
       "      <td>med</td>\n",
       "      <td>med</td>\n",
       "    </tr>\n",
       "    <tr>\n",
       "      <th>1724</th>\n",
       "      <td>low</td>\n",
       "      <td>low</td>\n",
       "      <td>5more</td>\n",
       "      <td>more</td>\n",
       "      <td>med</td>\n",
       "      <td>high</td>\n",
       "    </tr>\n",
       "    <tr>\n",
       "      <th>1725</th>\n",
       "      <td>low</td>\n",
       "      <td>low</td>\n",
       "      <td>5more</td>\n",
       "      <td>more</td>\n",
       "      <td>big</td>\n",
       "      <td>low</td>\n",
       "    </tr>\n",
       "    <tr>\n",
       "      <th>1726</th>\n",
       "      <td>low</td>\n",
       "      <td>low</td>\n",
       "      <td>5more</td>\n",
       "      <td>more</td>\n",
       "      <td>big</td>\n",
       "      <td>med</td>\n",
       "    </tr>\n",
       "    <tr>\n",
       "      <th>1727</th>\n",
       "      <td>low</td>\n",
       "      <td>low</td>\n",
       "      <td>5more</td>\n",
       "      <td>more</td>\n",
       "      <td>big</td>\n",
       "      <td>high</td>\n",
       "    </tr>\n",
       "  </tbody>\n",
       "</table>\n",
       "<p>1728 rows × 6 columns</p>\n",
       "</div>"
      ],
      "text/plain": [
       "     buying  maint  doors persons lug_boot safety\n",
       "0     vhigh  vhigh      2       2    small    low\n",
       "1     vhigh  vhigh      2       2    small    med\n",
       "2     vhigh  vhigh      2       2    small   high\n",
       "3     vhigh  vhigh      2       2      med    low\n",
       "4     vhigh  vhigh      2       2      med    med\n",
       "...     ...    ...    ...     ...      ...    ...\n",
       "1723    low    low  5more    more      med    med\n",
       "1724    low    low  5more    more      med   high\n",
       "1725    low    low  5more    more      big    low\n",
       "1726    low    low  5more    more      big    med\n",
       "1727    low    low  5more    more      big   high\n",
       "\n",
       "[1728 rows x 6 columns]"
      ]
     },
     "execution_count": 20,
     "metadata": {},
     "output_type": "execute_result"
    }
   ],
   "source": [
    "X"
   ]
  },
  {
   "cell_type": "code",
   "execution_count": 21,
   "metadata": {
    "colab": {
     "base_uri": "https://localhost:8080/"
    },
    "id": "ClpQPdnSLMbc",
    "outputId": "c7d975a4-27fa-485b-fbe1-cef77df53847"
   },
   "outputs": [
    {
     "data": {
      "text/plain": [
       "0       unacc\n",
       "1       unacc\n",
       "2       unacc\n",
       "3       unacc\n",
       "4       unacc\n",
       "        ...  \n",
       "1723     good\n",
       "1724    vgood\n",
       "1725    unacc\n",
       "1726     good\n",
       "1727    vgood\n",
       "Name: class, Length: 1728, dtype: object"
      ]
     },
     "execution_count": 21,
     "metadata": {},
     "output_type": "execute_result"
    }
   ],
   "source": [
    "y"
   ]
  },
  {
   "cell_type": "markdown",
   "metadata": {
    "id": "pWlWy4wW9XHF"
   },
   "source": [
    "### print the  unique value in each coulmn"
   ]
  },
  {
   "cell_type": "code",
   "execution_count": 22,
   "metadata": {
    "colab": {
     "base_uri": "https://localhost:8080/"
    },
    "id": "g1SAz2aF9XHG",
    "outputId": "5d643091-ccff-41e4-bec6-0947a3368661"
   },
   "outputs": [
    {
     "name": "stdout",
     "output_type": "stream",
     "text": [
      "the unique values in buying    column :['vhigh' 'high' 'med' 'low']\n",
      "the unique values in maint     column :['vhigh' 'high' 'med' 'low']\n",
      "the unique values in doors     column :['2' '3' '4' '5more']\n",
      "the unique values in persons   column :['2' '4' 'more']\n",
      "the unique values in lug_boot  column :['small' 'med' 'big']\n",
      "the unique values in safety    column :['low' 'med' 'high']\n",
      "========================================================================\n",
      "the unique values in the target label :['unacc' 'acc' 'vgood' 'good']\n"
     ]
    }
   ],
   "source": [
    "print(f\"the unique values in buying    column :{pd.Series.unique(X.buying)}\")\n",
    "print(f\"the unique values in maint     column :{pd.Series.unique(X.maint)}\")\n",
    "print(f\"the unique values in doors     column :{pd.Series.unique(X.doors)}\")\n",
    "print(f\"the unique values in persons   column :{pd.Series.unique(X.persons)}\")\n",
    "print(f\"the unique values in lug_boot  column :{pd.Series.unique(X.lug_boot)}\")\n",
    "print(f\"the unique values in safety    column :{pd.Series.unique(X.safety)}\")\n",
    "print(\"========================================================================\")\n",
    "print(f\"the unique values in the target label :{pd.Series.unique(y)}\")"
   ]
  },
  {
   "cell_type": "markdown",
   "metadata": {
    "id": "D1Kzoo1-LRAL"
   },
   "source": [
    "# **data preprocessing**\n"
   ]
  },
  {
   "cell_type": "code",
   "execution_count": 23,
   "metadata": {
    "colab": {
     "base_uri": "https://localhost:8080/"
    },
    "id": "wgZIsLGjLXjx",
    "outputId": "274e2d17-f58b-46a0-aec6-5c83bd13c383"
   },
   "outputs": [
    {
     "data": {
      "text/plain": [
       "buying      0\n",
       "maint       0\n",
       "doors       0\n",
       "persons     0\n",
       "lug_boot    0\n",
       "safety      0\n",
       "class       0\n",
       "dtype: int64"
      ]
     },
     "execution_count": 23,
     "metadata": {},
     "output_type": "execute_result"
    }
   ],
   "source": [
    "# checking the number of missing data\n",
    "dataset2.isnull().sum()"
   ]
  },
  {
   "cell_type": "markdown",
   "metadata": {
    "id": "O1zyhMTPL7zw"
   },
   "source": [
    "# **2. a) shuffle the data and get training, validation, testing set**"
   ]
  },
  {
   "cell_type": "code",
   "execution_count": 24,
   "metadata": {
    "id": "TwASa3sOMAkq"
   },
   "outputs": [],
   "source": [
    "X_train, X_test_validation, y_train, y_test_validation = train_test_split( X, y, test_size=0.4209, random_state=42,shuffle=True)\n",
    "X_test, X_validation, y_test, y_validation = train_test_split( X_test_validation,y_test_validation, test_size=0.412, random_state=42,shuffle=True)"
   ]
  },
  {
   "cell_type": "code",
   "execution_count": 25,
   "metadata": {
    "colab": {
     "base_uri": "https://localhost:8080/"
    },
    "id": "91Dcq0ZKMCc2",
    "outputId": "a912b9c4-706c-4df8-84c3-d3c3fd8c1494"
   },
   "outputs": [
    {
     "name": "stdout",
     "output_type": "stream",
     "text": [
      "length of X_train     : 1000\n",
      "length of y_train     : 1000\n",
      "length of X_validation: 300\n",
      "length of y_validation: 300\n",
      "length of X_test      : 428\n",
      "length of y_test      : 428\n"
     ]
    }
   ],
   "source": [
    "print(\"length of X_train     :\",len(X_train))\n",
    "print(\"length of y_train     :\",len(y_train))\n",
    "print(\"length of X_validation:\",len(X_validation))\n",
    "print(\"length of y_validation:\",len(y_validation))\n",
    "print(\"length of X_test      :\",len(X_test))\n",
    "print(\"length of y_test      :\",len(y_test))"
   ]
  },
  {
   "cell_type": "markdown",
   "metadata": {
    "id": "p88aYeoiLvu1"
   },
   "source": [
    "# **2. b)use ordinal encoder and label encoder to transfer categorical data to numeric data**"
   ]
  },
  {
   "cell_type": "code",
   "execution_count": 26,
   "metadata": {
    "colab": {
     "base_uri": "https://localhost:8080/"
    },
    "id": "aFIbdvE99XHN",
    "outputId": "453cfb72-1457-461a-b52e-ac9ccf4db579"
   },
   "outputs": [
    {
     "name": "stdout",
     "output_type": "stream",
     "text": [
      "Requirement already satisfied: category_encoders in c:\\users\\amjad\\anaconda3\\lib\\site-packages (2.5.0)\n",
      "Requirement already satisfied: statsmodels>=0.9.0 in c:\\users\\amjad\\anaconda3\\lib\\site-packages (from category_encoders) (0.12.2)\n",
      "Requirement already satisfied: patsy>=0.5.1 in c:\\users\\amjad\\anaconda3\\lib\\site-packages (from category_encoders) (0.5.2)\n",
      "Requirement already satisfied: scikit-learn>=0.20.0 in c:\\users\\amjad\\anaconda3\\lib\\site-packages (from category_encoders) (0.24.2)\n",
      "Requirement already satisfied: numpy>=1.14.0 in c:\\users\\amjad\\anaconda3\\lib\\site-packages (from category_encoders) (1.20.3)\n",
      "Requirement already satisfied: pandas>=1.0.5 in c:\\users\\amjad\\anaconda3\\lib\\site-packages (from category_encoders) (1.3.4)\n",
      "Requirement already satisfied: scipy>=1.0.0 in c:\\users\\amjad\\anaconda3\\lib\\site-packages (from category_encoders) (1.7.1)\n",
      "Requirement already satisfied: python-dateutil>=2.7.3 in c:\\users\\amjad\\anaconda3\\lib\\site-packages (from pandas>=1.0.5->category_encoders) (2.8.2)\n",
      "Requirement already satisfied: pytz>=2017.3 in c:\\users\\amjad\\anaconda3\\lib\\site-packages (from pandas>=1.0.5->category_encoders) (2021.3)\n",
      "Requirement already satisfied: six in c:\\users\\amjad\\anaconda3\\lib\\site-packages (from patsy>=0.5.1->category_encoders) (1.16.0)\n",
      "Requirement already satisfied: threadpoolctl>=2.0.0 in c:\\users\\amjad\\anaconda3\\lib\\site-packages (from scikit-learn>=0.20.0->category_encoders) (2.2.0)\n",
      "Requirement already satisfied: joblib>=0.11 in c:\\users\\amjad\\anaconda3\\lib\\site-packages (from scikit-learn>=0.20.0->category_encoders) (1.1.0)\n"
     ]
    }
   ],
   "source": [
    "!pip install category_encoders"
   ]
  },
  {
   "cell_type": "markdown",
   "metadata": {
    "id": "FcPznsbA9XHO"
   },
   "source": [
    "### Encoding the training data "
   ]
  },
  {
   "cell_type": "code",
   "execution_count": 27,
   "metadata": {
    "colab": {
     "base_uri": "https://localhost:8080/"
    },
    "id": "eXwGgjp_9XHP",
    "outputId": "0ca06482-2753-43a1-f868-7b8d4ff298c5"
   },
   "outputs": [
    {
     "name": "stdout",
     "output_type": "stream",
     "text": [
      "before encoding\n",
      "the unique values in buying    column :['high' 'vhigh' 'low' 'med']\n",
      "the unique values in maint     column :['low' 'med' 'vhigh' 'high']\n",
      "the unique values in doors     column :['3' '5more' '4' '2']\n",
      "the unique values in persons   column :['more' '2' '4']\n",
      "the unique values in lug_boot  column :['big' 'med' 'small']\n",
      "the unique values in safety    column :['high' 'low' 'med']\n",
      "========================================================================\n",
      "before encoding:\n",
      "buying        : object\n",
      "maint         : object\n",
      "doors         : object\n",
      "persons       : object\n",
      "lug_boot      : object\n",
      "safety        : object\n"
     ]
    }
   ],
   "source": [
    "print(\"before encoding\")\n",
    "print(f\"the unique values in buying    column :{pd.Series.unique(X_train.buying)}\")\n",
    "print(f\"the unique values in maint     column :{pd.Series.unique(X_train.maint)}\")\n",
    "print(f\"the unique values in doors     column :{pd.Series.unique(X_train.doors)}\")\n",
    "print(f\"the unique values in persons   column :{pd.Series.unique(X_train.persons)}\")\n",
    "print(f\"the unique values in lug_boot  column :{pd.Series.unique(X_train.lug_boot)}\")\n",
    "print(f\"the unique values in safety    column :{pd.Series.unique(X_train.safety)}\")\n",
    "print(\"========================================================================\")\n",
    "print(\"before encoding:\")\n",
    "print(\"buying        :\",X_train.buying.dtypes)\n",
    "print(\"maint         :\",X_train.maint.dtypes)\n",
    "print(\"doors         :\",X_train.doors.dtypes)\n",
    "print(\"persons       :\",X_train.persons.dtypes) \n",
    "print(\"lug_boot      :\",X_train.lug_boot.dtypes) \n",
    "print(\"safety        :\",X_train.safety.dtypes)"
   ]
  },
  {
   "cell_type": "code",
   "execution_count": 28,
   "metadata": {
    "id": "iukAALN89XHQ"
   },
   "outputs": [],
   "source": [
    "# encode the features using ordinalEncoder\n",
    "import category_encoders as ce \n",
    "\n",
    "encoder_1= ce.OrdinalEncoder(cols=['buying'],return_df=True,mapping=[{'col':'buying','mapping':{'vhigh':4 ,'high':3 ,'med':2 ,'low':1}}])\n",
    "X_train.buying= encoder_1.fit_transform(X_train.buying)\n",
    "\n",
    "encoder_2= ce.OrdinalEncoder(cols=['maint'],return_df=True,mapping=[{'col':'maint','mapping':{'vhigh':4 ,'high':3 ,'med':2 ,'low':1}}])\n",
    "X_train.maint= encoder_2.fit_transform(X_train.maint)\n",
    "\n",
    "encoder_3= ce.OrdinalEncoder(cols=['doors'],return_df=True,mapping=[{'col':'doors','mapping':{'2':2,'3':3,'4':4,'5more':5}}])\n",
    "X_train.doors= encoder_3.fit_transform(X_train.doors)\n",
    "\n",
    "encoder_4= ce.OrdinalEncoder(cols=['persons'],return_df=True,mapping=[{'col':'persons','mapping':{'2':2,'4':4,'more':6}}])\n",
    "X_train.persons= encoder_4.fit_transform(X_train.persons)\n",
    "\n",
    "encoder_5= ce.OrdinalEncoder(cols=['lug_boot'],return_df=True,mapping=[{'col':'lug_boot','mapping':{'small':1 ,'med':2 ,'big':3}}])\n",
    "X_train.lug_boot= encoder_5.fit_transform(X_train.lug_boot)\n",
    "\n",
    "encoder_6= ce.OrdinalEncoder(cols=['safety'],return_df=True,mapping=[{'col':'safety','mapping':{'low':1,'med':2,'high':3}}])\n",
    "X_train.safety = encoder_6.fit_transform(X_train.safety)\n"
   ]
  },
  {
   "cell_type": "code",
   "execution_count": 29,
   "metadata": {
    "id": "cTibg6mwL3AO"
   },
   "outputs": [],
   "source": [
    "# encode the target label using label encoder \n",
    "labelencoder_y = LabelEncoder()\n",
    "labelencoder_y.fit(y_train)\n",
    "y_train  = labelencoder_y.transform(y_train)"
   ]
  },
  {
   "cell_type": "code",
   "execution_count": 30,
   "metadata": {
    "colab": {
     "base_uri": "https://localhost:8080/"
    },
    "id": "6uhjeFVy9XHS",
    "outputId": "2beb688b-1f8c-4561-afc6-f347bc43b82e"
   },
   "outputs": [
    {
     "name": "stdout",
     "output_type": "stream",
     "text": [
      "after encoding\n",
      "the unique values in buying    column :[3 4 1 2]\n",
      "the unique values in maint     column :[1 2 4 3]\n",
      "the unique values in doors     column :[3 5 4 2]\n",
      "the unique values in persons   column :[6 2 4]\n",
      "the unique values in lug_boot  column :[3 2 1]\n",
      "the unique values in safety    column :[3 1 2]\n",
      "========================================================================\n",
      "after encoding:\n",
      "buying        : int32\n",
      "maint         : int32\n",
      "doors         : int32\n",
      "persons       : int32\n",
      "lug_boot      : int32\n",
      "safety        : int32\n"
     ]
    }
   ],
   "source": [
    "print(\"after encoding\")\n",
    "print(f\"the unique values in buying    column :{pd.Series.unique(X_train.buying)}\")\n",
    "print(f\"the unique values in maint     column :{pd.Series.unique(X_train.maint)}\")\n",
    "print(f\"the unique values in doors     column :{pd.Series.unique(X_train.doors)}\")\n",
    "print(f\"the unique values in persons   column :{pd.Series.unique(X_train.persons)}\")\n",
    "print(f\"the unique values in lug_boot  column :{pd.Series.unique(X_train.lug_boot)}\")\n",
    "print(f\"the unique values in safety    column :{pd.Series.unique(X_train.safety)}\")\n",
    "print(\"========================================================================\")\n",
    "print(\"after encoding:\")\n",
    "print(\"buying        :\",X_train.buying.dtypes)\n",
    "print(\"maint         :\",X_train.maint.dtypes)\n",
    "print(\"doors         :\",X_train.doors.dtypes)\n",
    "print(\"persons       :\",X_train.persons.dtypes) \n",
    "print(\"lug_boot      :\",X_train.lug_boot.dtypes) \n",
    "print(\"safety        :\",X_train.safety.dtypes)"
   ]
  },
  {
   "cell_type": "markdown",
   "metadata": {
    "id": "Ek5ZDONj9XHT"
   },
   "source": [
    "### Encoding the validation data "
   ]
  },
  {
   "cell_type": "code",
   "execution_count": 31,
   "metadata": {
    "id": "-WxvkOR39XHT"
   },
   "outputs": [],
   "source": [
    "X_validation.buying= encoder_1.transform(X_validation.buying)\n",
    "X_validation.maint= encoder_2.transform(X_validation.maint)\n",
    "X_validation.doors= encoder_3.transform(X_validation.doors)\n",
    "X_validation.persons= encoder_4.transform(X_validation.persons)\n",
    "X_validation.lug_boot= encoder_5.transform(X_validation.lug_boot)\n",
    "X_validation.safety = encoder_6.transform(X_validation.safety)"
   ]
  },
  {
   "cell_type": "code",
   "execution_count": 32,
   "metadata": {
    "id": "3QMDYRe79XHU"
   },
   "outputs": [],
   "source": [
    "# encode the target label using label encoder \n",
    "y_validation  = labelencoder_y.transform(y_validation)"
   ]
  },
  {
   "cell_type": "markdown",
   "metadata": {
    "id": "VgGuE4XI9XHV"
   },
   "source": [
    "### Encoding the testing data "
   ]
  },
  {
   "cell_type": "code",
   "execution_count": 33,
   "metadata": {
    "id": "rus9dUL19XHV"
   },
   "outputs": [],
   "source": [
    "X_test.buying= encoder_1.transform(X_test.buying)\n",
    "X_test.maint= encoder_2.transform(X_test.maint)\n",
    "X_test.doors= encoder_3.transform(X_test.doors)\n",
    "X_test.persons= encoder_4.transform(X_test.persons)\n",
    "X_test.lug_boot= encoder_5.transform(X_test.lug_boot)\n",
    "X_test.safety = encoder_6.transform(X_test.safety)"
   ]
  },
  {
   "cell_type": "code",
   "execution_count": 34,
   "metadata": {
    "id": "UJngONRA9XHW"
   },
   "outputs": [],
   "source": [
    "# encode the target label using label encoder \n",
    "y_test  = labelencoder_y.transform(y_test)"
   ]
  },
  {
   "cell_type": "markdown",
   "metadata": {
    "id": "U_hwvACQMFl8"
   },
   "source": [
    "# **2. c)use different number of training samples to show the impact of number of training sample**"
   ]
  },
  {
   "cell_type": "code",
   "execution_count": 35,
   "metadata": {
    "id": "plOVN3QaMNhG"
   },
   "outputs": [],
   "source": [
    "def Evaluate(model,X_train,y_train,X_validation,y_validation,X_test,y_test):\n",
    "    \n",
    "    start = timeit.default_timer()\n",
    "    model.fit(X_train, y_train)\n",
    "    stop = timeit.default_timer()\n",
    "    train_time=(stop-start) # training time\n",
    "    \n",
    "    # test the accuracy on the validation set\n",
    "    validation_score=model.score(X_validation, y_validation)*100\n",
    "    \n",
    "    start2 = timeit.default_timer()\n",
    "    validation_prediction=model.predict(X_validation)\n",
    "    stop2 = timeit.default_timer()\n",
    "    prediction_time_validation=(stop2-start2) # prediction time based on the validation set \n",
    "    \n",
    "    # test the accuracy on the test set\n",
    "    test_score=model.score(X_test, y_test)*100\n",
    "    \n",
    "    start3 = timeit.default_timer()\n",
    "    test_prediction=model.predict(X_test)\n",
    "    stop3 = timeit.default_timer()\n",
    "    prediction_time_testing=(stop3-start3) # prediction time based on the testing set\n",
    "    \n",
    "    print(\"===============================================\")\n",
    "    print(\"training time                         :\",train_time)\n",
    "    print(\"prediction time on validation set     :\",prediction_time_validation)\n",
    "    print(\"prediction time on testing set        :\",prediction_time_testing)\n",
    "    print('validation accuracy :',validation_score)\n",
    "    print('testing accuracy    :',test_score)\n",
    "    print(\"===============================================\")\n",
    "#     ConfusionMatrixDisplay.from_estimator(model,X_validation, y_validation)  \n",
    "#     plt.show()\n",
    "\n",
    "    return train_time,prediction_time_validation,prediction_time_testing,validation_score,test_score"
   ]
  },
  {
   "cell_type": "code",
   "execution_count": 36,
   "metadata": {
    "id": "QB086sdBMSf7"
   },
   "outputs": [],
   "source": [
    "# Fitting K-NN \n",
    "from sklearn.neighbors import KNeighborsClassifier\n",
    "def train_KNN_model(k,X_train,y_train,X_validation,y_validation,X_test,y_test):\n",
    "    classifier = KNeighborsClassifier(n_neighbors = k,metric='minkowski',p = 2)\n",
    "    train_time,prediction_time_validation,prediction_time_testing,validation_score,test_score=Evaluate(classifier,X_train,y_train,X_validation,y_validation,X_test,y_test)\n",
    "    return train_time,prediction_time_validation,prediction_time_testing,validation_score,test_score"
   ]
  },
  {
   "cell_type": "code",
   "execution_count": 37,
   "metadata": {
    "id": "Ax2yEsTLMWGK"
   },
   "outputs": [],
   "source": [
    "def train_with_percentage(k,data_limit,X_train,y_train,X_validation,y_validation,X_test,y_test):\n",
    "    X_train = X_train.head(data_limit)\n",
    "    y_train = y_train[0:data_limit]\n",
    "    print(f\"percentage of training data:{int(data_limit/10)}% , k value : {k}\",)\n",
    "    train_time,prediction_time_validation,prediction_time_testing,validation_score,test_score=train_KNN_model(k,X_train,y_train,X_validation,y_validation,X_test,y_test)\n",
    "    return train_time,prediction_time_validation,prediction_time_testing,validation_score,test_score"
   ]
  },
  {
   "cell_type": "code",
   "execution_count": 38,
   "metadata": {
    "colab": {
     "base_uri": "https://localhost:8080/"
    },
    "id": "uELjPlA4MZau",
    "outputId": "3d0e95e5-4b08-4f28-ae9e-4ec12f48be9d"
   },
   "outputs": [
    {
     "name": "stdout",
     "output_type": "stream",
     "text": [
      "percentage of training data:10% , k value : 2\n",
      "===============================================\n",
      "training time                         : 0.0017833999999989913\n",
      "prediction time on validation set     : 0.0075494000000002615\n",
      "prediction time on testing set        : 0.00998739999999998\n",
      "validation accuracy : 78.66666666666666\n",
      "testing accuracy    : 76.16822429906543\n",
      "===============================================\n",
      "percentage of training data:20% , k value : 2\n",
      "===============================================\n",
      "training time                         : 0.0012459000000006881\n",
      "prediction time on validation set     : 0.0073048\n",
      "prediction time on testing set        : 0.010347100000000609\n",
      "validation accuracy : 81.0\n",
      "testing accuracy    : 77.33644859813083\n",
      "===============================================\n",
      "percentage of training data:30% , k value : 2\n",
      "===============================================\n",
      "training time                         : 0.0014780999999999267\n",
      "prediction time on validation set     : 0.007657299999999978\n",
      "prediction time on testing set        : 0.00988879999999881\n",
      "validation accuracy : 85.66666666666667\n",
      "testing accuracy    : 79.43925233644859\n",
      "===============================================\n",
      "percentage of training data:40% , k value : 2\n",
      "===============================================\n",
      "training time                         : 0.0014526000000003592\n",
      "prediction time on validation set     : 0.0073752999999996405\n",
      "prediction time on testing set        : 0.010043599999999486\n",
      "validation accuracy : 84.33333333333334\n",
      "testing accuracy    : 81.07476635514018\n",
      "===============================================\n",
      "percentage of training data:50% , k value : 2\n",
      "===============================================\n",
      "training time                         : 0.0018215000000001424\n",
      "prediction time on validation set     : 0.007521099999999947\n",
      "prediction time on testing set        : 0.010249799999998643\n",
      "validation accuracy : 83.33333333333334\n",
      "testing accuracy    : 82.00934579439252\n",
      "===============================================\n",
      "percentage of training data:60% , k value : 2\n",
      "===============================================\n",
      "training time                         : 0.00169499999999978\n",
      "prediction time on validation set     : 0.007631799999998634\n",
      "prediction time on testing set        : 0.01152139999999946\n",
      "validation accuracy : 85.66666666666667\n",
      "testing accuracy    : 82.2429906542056\n",
      "===============================================\n",
      "percentage of training data:70% , k value : 2\n",
      "===============================================\n",
      "training time                         : 0.002653699999999759\n",
      "prediction time on validation set     : 0.00791079999999944\n",
      "prediction time on testing set        : 0.010325200000000478\n",
      "validation accuracy : 87.0\n",
      "testing accuracy    : 82.4766355140187\n",
      "===============================================\n",
      "percentage of training data:80% , k value : 2\n",
      "===============================================\n",
      "training time                         : 0.0023745999999995604\n",
      "prediction time on validation set     : 0.007566300000000581\n",
      "prediction time on testing set        : 0.011396699999998816\n",
      "validation accuracy : 87.33333333333333\n",
      "testing accuracy    : 82.94392523364486\n",
      "===============================================\n",
      "percentage of training data:90% , k value : 2\n",
      "===============================================\n",
      "training time                         : 0.002186700000001096\n",
      "prediction time on validation set     : 0.007814400000000887\n",
      "prediction time on testing set        : 0.01087749999999943\n",
      "validation accuracy : 87.66666666666667\n",
      "testing accuracy    : 81.77570093457945\n",
      "===============================================\n",
      "percentage of training data:100% , k value : 2\n",
      "===============================================\n",
      "training time                         : 0.0023116000000005243\n",
      "prediction time on validation set     : 0.008040400000000503\n",
      "prediction time on testing set        : 0.010913999999999646\n",
      "validation accuracy : 86.66666666666667\n",
      "testing accuracy    : 82.4766355140187\n",
      "===============================================\n"
     ]
    }
   ],
   "source": [
    "training_percentages = [10,20,30,40,50,60,70,80,90,100]\n",
    "validation_accuracy = []\n",
    "testing_accuracy = []\n",
    "training_times = []\n",
    "prediction_validation_times = []\n",
    "prediction_testing_times = []\n",
    "for i in training_percentages:\n",
    "    limit = i*10\n",
    "    train_time,prediction_time_validation,prediction_time_testing,validation_score,test_score=train_with_percentage(2,limit,X_train,y_train,X_validation,y_validation,X_test,y_test)\n",
    "    validation_accuracy.append(validation_score)\n",
    "    testing_accuracy.append(test_score)\n",
    "    training_times.append(train_time)\n",
    "    prediction_validation_times.append(prediction_time_validation)\n",
    "    prediction_testing_times.append(prediction_time_testing)"
   ]
  },
  {
   "cell_type": "code",
   "execution_count": 39,
   "metadata": {
    "colab": {
     "base_uri": "https://localhost:8080/",
     "height": 350
    },
    "id": "z5TxUXzmMcRt",
    "outputId": "bb8704ba-dd51-4283-f6d8-718689108308"
   },
   "outputs": [
    {
     "data": {
      "image/png": "[encoded data removed]",
      "text/plain": [
       "<Figure size 720x360 with 1 Axes>"
      ]
     },
     "metadata": {
      "needs_background": "light"
     },
     "output_type": "display_data"
    }
   ],
   "source": [
    "fig = plt.figure(figsize = (10, 5))\n",
    "plt.bar([\"10%\",\"20\",\"30%\",\"40%\",\"50%\",\"60%\",\"70%\",\"80%\",\"90%\",\"100%\"], validation_accuracy, color ='green',width = 0.4)\n",
    " \n",
    "plt.xlabel(\"the portion of the training set\")\n",
    "plt.ylabel(\"validation accuracy score\")\n",
    "plt.title(\"the validation accuracies for different training sets\")\n",
    "plt.show()"
   ]
  },
  {
   "cell_type": "code",
   "execution_count": 40,
   "metadata": {
    "colab": {
     "base_uri": "https://localhost:8080/",
     "height": 295
    },
    "id": "1iZhhGlC9XHd",
    "outputId": "cd66983b-1702-41b8-f403-56b462fbcde6"
   },
   "outputs": [
    {
     "data": {
      "image/png": "[encoded data removed]",
      "text/plain": [
       "<Figure size 432x288 with 1 Axes>"
      ]
     },
     "metadata": {
      "needs_background": "light"
     },
     "output_type": "display_data"
    }
   ],
   "source": [
    "plt.plot([\"10%\",\"20\",\"30%\",\"40%\",\"50%\",\"60%\",\"70%\",\"80%\",\"90%\",\"100%\"], validation_accuracy,marker='o', markersize=5, label='validation Accuracy')\n",
    "plt.xlabel('the training set size')\n",
    "plt.ylabel('validation accuracy')\n",
    "plt.title(\"the validation accuracy curve with different training set sizes\")\n",
    "plt.legend(['Validation accuracy'])\n",
    "plt.grid()\n",
    "plt.show()"
   ]
  },
  {
   "cell_type": "code",
   "execution_count": 41,
   "metadata": {
    "colab": {
     "base_uri": "https://localhost:8080/",
     "height": 350
    },
    "id": "sAe82cnbMfe-",
    "outputId": "7a8dfba7-20dc-4868-9180-57e3d4a20126"
   },
   "outputs": [
    {
     "data": {
      "image/png": "[encoded data removed]",
      "text/plain": [
       "<Figure size 720x360 with 1 Axes>"
      ]
     },
     "metadata": {
      "needs_background": "light"
     },
     "output_type": "display_data"
    }
   ],
   "source": [
    "# creating the bar plot\n",
    "fig = plt.figure(figsize = (10, 5))\n",
    "plt.bar([\"10%\",\"20\",\"30%\",\"40%\",\"50%\",\"60%\",\"70%\",\"80%\",\"90%\",\"100%\"], testing_accuracy, color ='blue',width = 0.4)\n",
    " \n",
    "plt.xlabel(\"the portion of the training set\")\n",
    "plt.ylabel(\"testing accuracy score\")\n",
    "plt.title(\"the testing accuracies for different training sets\")\n",
    "plt.show()"
   ]
  },
  {
   "cell_type": "code",
   "execution_count": 42,
   "metadata": {
    "colab": {
     "base_uri": "https://localhost:8080/",
     "height": 295
    },
    "id": "4bqxra349XHf",
    "outputId": "389e8856-872c-4789-ad22-b838e6d9cf02"
   },
   "outputs": [
    {
     "data": {
      "image/png": "[encoded data removed]",
      "text/plain": [
       "<Figure size 432x288 with 1 Axes>"
      ]
     },
     "metadata": {
      "needs_background": "light"
     },
     "output_type": "display_data"
    }
   ],
   "source": [
    "plt.plot([\"10%\",\"20\",\"30%\",\"40%\",\"50%\",\"60%\",\"70%\",\"80%\",\"90%\",\"100%\"], testing_accuracy,marker='o', markersize=5, label='testing Accuracy')\n",
    "plt.xlabel('the training set size')\n",
    "plt.ylabel('testing accuracy')\n",
    "plt.title(\"the testing accuracy curve with different training set sizes\")\n",
    "plt.legend(['Test  accuracy'])\n",
    "plt.grid()\n",
    "plt.show()"
   ]
  },
  {
   "cell_type": "code",
   "execution_count": 43,
   "metadata": {
    "colab": {
     "base_uri": "https://localhost:8080/",
     "height": 295
    },
    "id": "rgPB4D5P9XHg",
    "outputId": "0691388f-ee46-49fa-8f36-752491fe8548"
   },
   "outputs": [
    {
     "data": {
      "image/png": "[encoded data removed]",
      "text/plain": [
       "<Figure size 432x288 with 1 Axes>"
      ]
     },
     "metadata": {
      "needs_background": "light"
     },
     "output_type": "display_data"
    }
   ],
   "source": [
    "plt.plot([\"10%\",\"20\",\"30%\",\"40%\",\"50%\",\"60%\",\"70%\",\"80%\",\"90%\",\"100%\"], validation_accuracy,marker='o', markersize=5, label='validation Accuracy')\n",
    "plt.plot([\"10%\",\"20\",\"30%\",\"40%\",\"50%\",\"60%\",\"70%\",\"80%\",\"90%\",\"100%\"], testing_accuracy,marker='o', markersize=5, label='testing Accuracy')\n",
    "plt.xlabel('the training set size')\n",
    "plt.ylabel(' accuracy')\n",
    "plt.title(\"the validation and testing accuracy curve with different training set sizes\")\n",
    "plt.legend(['Validation accuracy', 'Test  accuracy'])\n",
    "plt.grid()\n",
    "plt.show()"
   ]
  },
  {
   "cell_type": "code",
   "execution_count": 44,
   "metadata": {
    "colab": {
     "base_uri": "https://localhost:8080/",
     "height": 350
    },
    "id": "EPehple-Mhzr",
    "outputId": "1d2ed22c-8746-4000-b00a-f6816c7f8458"
   },
   "outputs": [
    {
     "data": {
      "image/png": "[encoded data removed]",
      "text/plain": [
       "<Figure size 720x360 with 1 Axes>"
      ]
     },
     "metadata": {
      "needs_background": "light"
     },
     "output_type": "display_data"
    }
   ],
   "source": [
    "# creating the bar plot\n",
    "fig = plt.figure(figsize = (10, 5))\n",
    "plt.bar(training_percentages, training_times, color ='red',width = 1)\n",
    " \n",
    "plt.xlabel(\"the portion of the training set\")\n",
    "plt.ylabel(\"training time in seconds\")\n",
    "plt.title(\"the training time for different training sets\")\n",
    "plt.show()"
   ]
  },
  {
   "cell_type": "code",
   "execution_count": 45,
   "metadata": {
    "colab": {
     "base_uri": "https://localhost:8080/",
     "height": 350
    },
    "id": "QPhkbOkqMtoM",
    "outputId": "e952b564-cd2c-4b10-c696-d2808f2649b8"
   },
   "outputs": [
    {
     "data": {
      "image/png": "[encoded data removed]",
      "text/plain": [
       "<Figure size 720x360 with 1 Axes>"
      ]
     },
     "metadata": {
      "needs_background": "light"
     },
     "output_type": "display_data"
    }
   ],
   "source": [
    "# creating the bar plot\n",
    "fig = plt.figure(figsize = (10, 5))\n",
    "plt.bar(training_percentages, prediction_validation_times, color ='gray',width = 1)\n",
    " \n",
    "plt.xlabel(\"the portion of the training set\")\n",
    "plt.ylabel(\"prediction  time using validation set in seconds\")\n",
    "plt.title(\"the prediction times using validation set for different training sets\")\n",
    "plt.show()"
   ]
  },
  {
   "cell_type": "code",
   "execution_count": 46,
   "metadata": {
    "colab": {
     "base_uri": "https://localhost:8080/",
     "height": 350
    },
    "id": "MY4eK1_tMwjY",
    "outputId": "4e3099fc-a483-4cc9-ae35-1fbf100405e9"
   },
   "outputs": [
    {
     "data": {
      "image/png": "[encoded data removed]",
      "text/plain": [
       "<Figure size 720x360 with 1 Axes>"
      ]
     },
     "metadata": {
      "needs_background": "light"
     },
     "output_type": "display_data"
    }
   ],
   "source": [
    "# creating the bar plot\n",
    "fig = plt.figure(figsize = (10, 5))\n",
    "plt.bar(training_percentages, prediction_testing_times,width = 1)\n",
    " \n",
    "plt.xlabel(\"the portion of the training set\")\n",
    "plt.ylabel(\"prediction  time using testing set in seconds\")\n",
    "plt.title(\"the prediction times using testing set for different training sets\")\n",
    "plt.show()"
   ]
  },
  {
   "cell_type": "markdown",
   "metadata": {
    "id": "yuEwYUa6M1j3"
   },
   "source": [
    "### 2. d) use 100% of the training set and k varies from 1 to 10 "
   ]
  },
  {
   "cell_type": "code",
   "execution_count": 47,
   "metadata": {
    "colab": {
     "base_uri": "https://localhost:8080/"
    },
    "id": "qyvHn4oEM8Hk",
    "outputId": "e9493de0-1f29-4ebf-a17a-ef55b3ead032"
   },
   "outputs": [
    {
     "name": "stdout",
     "output_type": "stream",
     "text": [
      "percentage of training data:100% , k value : 1\n",
      "===============================================\n",
      "training time                         : 0.004073100000001162\n",
      "prediction time on validation set     : 0.008939800000000275\n",
      "prediction time on testing set        : 0.012218700000000027\n",
      "validation accuracy : 87.33333333333333\n",
      "testing accuracy    : 85.2803738317757\n",
      "===============================================\n",
      "percentage of training data:100% , k value : 2\n",
      "===============================================\n",
      "training time                         : 0.002844300000001354\n",
      "prediction time on validation set     : 0.009099199999999641\n",
      "prediction time on testing set        : 0.01154050000000062\n",
      "validation accuracy : 86.66666666666667\n",
      "testing accuracy    : 82.4766355140187\n",
      "===============================================\n",
      "percentage of training data:100% , k value : 3\n",
      "===============================================\n",
      "training time                         : 0.004294399999999143\n",
      "prediction time on validation set     : 0.00863799999999948\n",
      "prediction time on testing set        : 0.013118499999999145\n",
      "validation accuracy : 90.66666666666666\n",
      "testing accuracy    : 93.22429906542055\n",
      "===============================================\n",
      "percentage of training data:100% , k value : 4\n",
      "===============================================\n",
      "training time                         : 0.0035522999999990645\n",
      "prediction time on validation set     : 0.00885310000000139\n",
      "prediction time on testing set        : 0.012494999999999479\n",
      "validation accuracy : 89.0\n",
      "testing accuracy    : 90.65420560747664\n",
      "===============================================\n",
      "percentage of training data:100% , k value : 5\n",
      "===============================================\n",
      "training time                         : 0.0025180000000002423\n",
      "prediction time on validation set     : 0.008904799999999824\n",
      "prediction time on testing set        : 0.012327799999999556\n",
      "validation accuracy : 91.66666666666666\n",
      "testing accuracy    : 93.45794392523365\n",
      "===============================================\n",
      "percentage of training data:100% , k value : 6\n",
      "===============================================\n",
      "training time                         : 0.002845900000000512\n",
      "prediction time on validation set     : 0.008529999999998594\n",
      "prediction time on testing set        : 0.011895000000000877\n",
      "validation accuracy : 91.0\n",
      "testing accuracy    : 91.1214953271028\n",
      "===============================================\n",
      "percentage of training data:100% , k value : 7\n",
      "===============================================\n",
      "training time                         : 0.0024668999999999386\n",
      "prediction time on validation set     : 0.008414300000000097\n",
      "prediction time on testing set        : 0.011466099999999813\n",
      "validation accuracy : 90.0\n",
      "testing accuracy    : 92.28971962616822\n",
      "===============================================\n",
      "percentage of training data:100% , k value : 8\n",
      "===============================================\n",
      "training time                         : 0.002351499999999618\n",
      "prediction time on validation set     : 0.008826000000000889\n",
      "prediction time on testing set        : 0.011667599999999112\n",
      "validation accuracy : 91.0\n",
      "testing accuracy    : 92.28971962616822\n",
      "===============================================\n",
      "percentage of training data:100% , k value : 9\n",
      "===============================================\n",
      "training time                         : 0.003156399999999948\n",
      "prediction time on validation set     : 0.008180099999998802\n",
      "prediction time on testing set        : 0.011818800000000351\n",
      "validation accuracy : 91.0\n",
      "testing accuracy    : 92.05607476635514\n",
      "===============================================\n",
      "percentage of training data:100% , k value : 10\n",
      "===============================================\n",
      "training time                         : 0.0034879999999990474\n",
      "prediction time on validation set     : 0.008740099999998918\n",
      "prediction time on testing set        : 0.011529600000001139\n",
      "validation accuracy : 90.0\n",
      "testing accuracy    : 90.88785046728972\n",
      "===============================================\n"
     ]
    }
   ],
   "source": [
    "validation_accuracy2 = []\n",
    "testing_accuracy2 = []\n",
    "training_times2 = []\n",
    "prediction_validation_times2 = []\n",
    "prediction_testing_times2 = []\n",
    "k_values = [1,2,3,4,5,6,7,8,9,10]\n",
    "for i in k_values:\n",
    "    train_time,prediction_time_validation,prediction_time_testing,validation_score,test_score=train_with_percentage(i,1000,X_train,y_train,X_validation,y_validation,X_test,y_test)\n",
    "    validation_accuracy2.append(validation_score)\n",
    "    testing_accuracy2.append(test_score)\n",
    "    training_times2.append(train_time)\n",
    "    prediction_validation_times2.append(prediction_time_validation)\n",
    "    prediction_testing_times2.append(prediction_time_testing)"
   ]
  },
  {
   "cell_type": "code",
   "execution_count": 48,
   "metadata": {
    "colab": {
     "base_uri": "https://localhost:8080/",
     "height": 350
    },
    "id": "_A3NNniSM-1m",
    "outputId": "d8b942dc-b933-422b-825b-063ba178e08a"
   },
   "outputs": [
    {
     "data": {
      "image/png": "[encoded data removed]",
      "text/plain": [
       "<Figure size 720x360 with 1 Axes>"
      ]
     },
     "metadata": {
      "needs_background": "light"
     },
     "output_type": "display_data"
    }
   ],
   "source": [
    "# creating the bar plot\n",
    "fig = plt.figure(figsize = (10, 5))\n",
    "plt.bar(k_values, validation_accuracy2,width = 0.4)\n",
    " \n",
    "plt.xlabel(\"the value of K \")\n",
    "plt.ylabel(\"the validation accurracy\")\n",
    "plt.title(\"the validation accuracies when k varies from 1 to 10\")\n",
    "plt.show()"
   ]
  },
  {
   "cell_type": "code",
   "execution_count": 49,
   "metadata": {
    "colab": {
     "base_uri": "https://localhost:8080/",
     "height": 295
    },
    "id": "crHrlGydNBfh",
    "outputId": "0844f5d6-099e-4c1c-a7ff-6a7523c919a2"
   },
   "outputs": [
    {
     "data": {
      "image/png": "[encoded data removed]",
      "text/plain": [
       "<Figure size 432x288 with 1 Axes>"
      ]
     },
     "metadata": {
      "needs_background": "light"
     },
     "output_type": "display_data"
    }
   ],
   "source": [
    "plt.plot(k_values, validation_accuracy2,marker='o', markersize=5, label='validation Accuracy')\n",
    "plt.xlabel('the value of K')\n",
    "plt.ylabel('Validation accuracy ')\n",
    "plt.title(\"the accuracy curve on the validation set when k varies from 1 to 10\")\n",
    "plt.grid()\n",
    "plt.show()"
   ]
  },
  {
   "cell_type": "code",
   "execution_count": 50,
   "metadata": {
    "colab": {
     "base_uri": "https://localhost:8080/",
     "height": 295
    },
    "id": "-lk90KoY9XHo",
    "outputId": "7e7b9ffe-60fc-4722-b572-0ed0818093bc"
   },
   "outputs": [
    {
     "data": {
      "image/png": "[encoded data removed]",
      "text/plain": [
       "<Figure size 432x288 with 1 Axes>"
      ]
     },
     "metadata": {
      "needs_background": "light"
     },
     "output_type": "display_data"
    }
   ],
   "source": [
    "plt.plot(k_values,testing_accuracy2,marker='o', markersize=5, label='testing Accuracy')\n",
    "plt.xlabel('the value of K')\n",
    "plt.ylabel('testing accuracy ')\n",
    "plt.title(\"the accuracy curve on the test set when k varies from 1 to 10\")\n",
    "plt.grid()\n",
    "plt.show()"
   ]
  },
  {
   "cell_type": "code",
   "execution_count": 51,
   "metadata": {
    "colab": {
     "base_uri": "https://localhost:8080/",
     "height": 295
    },
    "id": "Wryd4wOS9XHp",
    "outputId": "ed9cb9ce-c65f-4d8b-a2ff-31ba207892c0"
   },
   "outputs": [
    {
     "data": {
      "image/png": "[encoded data removed]",
      "text/plain": [
       "<Figure size 432x288 with 1 Axes>"
      ]
     },
     "metadata": {
      "needs_background": "light"
     },
     "output_type": "display_data"
    }
   ],
   "source": [
    "plt.plot(k_values,validation_accuracy2,marker='o', markersize=5, label='validation Accuracy')\n",
    "plt.plot(k_values,testing_accuracy2,marker='o', markersize=5, label='testing Accuracy')\n",
    "plt.xlabel('the value of K')\n",
    "plt.ylabel(' accuracy ')\n",
    "plt.title(\"the accuracy curve on the validaion and test set when k varies from 1 to 10\")\n",
    "plt.legend(['validation Accuracy','testing Accuracy'])\n",
    "plt.grid()\n",
    "plt.show()"
   ]
  },
  {
   "cell_type": "markdown",
   "metadata": {
    "id": "0ogP9TzgNEvO"
   },
   "source": [
    "**### 2.e ) Analysis the training time when use different number of training samples.**"
   ]
  },
  {
   "cell_type": "code",
   "execution_count": 52,
   "metadata": {
    "colab": {
     "base_uri": "https://localhost:8080/"
    },
    "id": "K0J9WunJNLNy",
    "outputId": "7bcceb8e-a030-44c2-998b-dc49d30a0c20"
   },
   "outputs": [
    {
     "name": "stdout",
     "output_type": "stream",
     "text": [
      "percentage of training data:10% , k value : 2\n",
      "===============================================\n",
      "training time                         : 0.0018440000000001788\n",
      "prediction time on validation set     : 0.007827899999998778\n",
      "prediction time on testing set        : 0.010304599999999553\n",
      "validation accuracy : 78.66666666666666\n",
      "testing accuracy    : 76.16822429906543\n",
      "===============================================\n",
      "percentage of training data:100% , k value : 2\n",
      "===============================================\n",
      "training time                         : 0.003386299999998954\n",
      "prediction time on validation set     : 0.008397099999999824\n",
      "prediction time on testing set        : 0.011071199999999948\n",
      "validation accuracy : 86.66666666666667\n",
      "testing accuracy    : 82.4766355140187\n",
      "===============================================\n",
      "percentage of training data:10% , k value : 10\n",
      "===============================================\n",
      "training time                         : 0.001124200000001352\n",
      "prediction time on validation set     : 0.007633799999998914\n",
      "prediction time on testing set        : 0.010182399999999703\n",
      "validation accuracy : 80.0\n",
      "testing accuracy    : 76.4018691588785\n",
      "===============================================\n",
      "percentage of training data:100% , k value : 10\n",
      "===============================================\n",
      "training time                         : 0.002247000000000554\n",
      "prediction time on validation set     : 0.008498499999999964\n",
      "prediction time on testing set        : 0.013403699999999574\n",
      "validation accuracy : 90.0\n",
      "testing accuracy    : 90.88785046728972\n",
      "===============================================\n"
     ]
    }
   ],
   "source": [
    "k_values2 =[2,2,10,10]\n",
    "percent =[10,100,10,100]\n",
    "validation_accuracy3 = []\n",
    "testing_accuracy3 = []\n",
    "training_times3 = []\n",
    "prediction_validation_times3 = []\n",
    "prediction_testing_times3 = []\n",
    "\n",
    "for i in range(4):\n",
    "    limit = percent[i]*10\n",
    "    k = k_values2[i]\n",
    "    train_time,prediction_time_validation,prediction_time_testing,validation_score,test_score=train_with_percentage(k,limit,X_train,y_train,X_validation,y_validation,X_test,y_test)\n",
    "    validation_accuracy3.append(validation_score)\n",
    "    testing_accuracy3.append(test_score)\n",
    "    training_times3.append(train_time)\n",
    "    prediction_validation_times3.append(prediction_time_validation)\n",
    "    prediction_testing_times3.append(prediction_time_testing)"
   ]
  },
  {
   "cell_type": "code",
   "execution_count": 53,
   "metadata": {
    "colab": {
     "base_uri": "https://localhost:8080/",
     "height": 350
    },
    "id": "Oh_-pa6oNOU3",
    "outputId": "de2e88f7-45a6-49de-9b0b-15029c08b364"
   },
   "outputs": [
    {
     "data": {
      "image/png": "[encoded data removed]",
      "text/plain": [
       "<Figure size 1440x360 with 1 Axes>"
      ]
     },
     "metadata": {
      "needs_background": "light"
     },
     "output_type": "display_data"
    }
   ],
   "source": [
    "# creating the bar plot\n",
    "fig = plt.figure(figsize = (20, 5))\n",
    "labels = [\"k=2,percent=10%\",\"k=2,percent=100%\",\"k=10,percent=10%\",\"k=10,percent=100%\"]\n",
    "\n",
    "plt.bar(labels, prediction_testing_times3,width = 0.1)\n",
    " \n",
    "plt.xlabel(\"the model in term of spesific key and spesific training percentage\")\n",
    "plt.ylabel(\"prediction  time using testing set in seconds\")\n",
    "plt.title(\"the prediction times using testing set for different compination between the value of K and the size of the training set\")\n",
    "plt.show()"
   ]
  },
  {
   "cell_type": "code",
   "execution_count": 54,
   "metadata": {
    "colab": {
     "base_uri": "https://localhost:8080/",
     "height": 295
    },
    "id": "B9xbSagh9XHt",
    "outputId": "34b51b24-616c-456c-dead-36e08107eb61"
   },
   "outputs": [
    {
     "data": {
      "image/png": "[encoded data removed]",
      "text/plain": [
       "<Figure size 432x288 with 1 Axes>"
      ]
     },
     "metadata": {
      "needs_background": "light"
     },
     "output_type": "display_data"
    }
   ],
   "source": [
    "plt.plot([\"k=2,percent=10%\",\"k=2,percent=100%\",\"k=10,percent=10%\",\"k=10,percent=100%\"], prediction_testing_times3,marker='o', markersize=5, label='validation Accuracy')\n",
    "plt.xlabel('the value of K and the size of the training set')\n",
    "plt.ylabel('prediction time in second')\n",
    "plt.title(\"the prediction time curve on the testing set with different compinations of k and training data size\")\n",
    "plt.grid()\n",
    "plt.show()"
   ]
  },
  {
   "cell_type": "code",
   "execution_count": 55,
   "metadata": {
    "colab": {
     "base_uri": "https://localhost:8080/",
     "height": 295
    },
    "id": "q_AvZzhL_wIf",
    "outputId": "57eaa02c-195f-4e5f-a13c-105faeca5efc"
   },
   "outputs": [
    {
     "data": {
      "image/png": "[encoded data removed]",
      "text/plain": [
       "<Figure size 432x288 with 1 Axes>"
      ]
     },
     "metadata": {
      "needs_background": "light"
     },
     "output_type": "display_data"
    }
   ],
   "source": [
    "plt.plot([\"k=2,percent=10%\",\"k=2,percent=100%\",\"k=10,percent=10%\",\"k=10,percent=100%\"], prediction_testing_times3,marker='o', markersize=5, label='validation Accuracy')\n",
    "plt.xlabel('the value of K and the size of the training set')\n",
    "plt.ylabel('training time in second')\n",
    "plt.title(\"the training time curve with different compinations of k and training data size\")\n",
    "plt.grid()\n",
    "plt.show()"
   ]
  },
  {
   "cell_type": "markdown",
   "metadata": {
    "id": "qWaqObbNNT8W"
   },
   "source": [
    "# **References**"
   ]
  },
  {
   "cell_type": "markdown",
   "metadata": {
    "id": "H4YKXL-3Nbfv"
   },
   "source": [
    "1. https://docs.python.org/3/library/timeit.html#timeit.Timer.timeit\n",
    "2. https://scikit-learn.org/stable/modules/generated/sklearn.preprocessing.OrdinalEncoder.html\n",
    "3. https://scikit-learn.org/stable/modules/generated/sklearn.preprocessing.LabelEncoder.html\n",
    "4. https://www.kaggle.com/datasets/elikplim/car-evaluation-data-set"
   ]
  }
 ],
 "metadata": {
  "colab": {
   "collapsed_sections": [],
   "name": "Group18_HW2.ipynb",
   "provenance": []
  },
  "kernelspec": {
   "display_name": "Python 3 (ipykernel)",
   "language": "python",
   "name": "python3"
  },
  "language_info": {
   "codemirror_mode": {
    "name": "ipython",
    "version": 3
   },
   "file_extension": ".py",
   "mimetype": "text/x-python",
   "name": "python",
   "nbconvert_exporter": "python",
   "pygments_lexer": "ipython3",
   "version": "3.9.7"
  }
 },
 "nbformat": 4,
 "nbformat_minor": 1
}
